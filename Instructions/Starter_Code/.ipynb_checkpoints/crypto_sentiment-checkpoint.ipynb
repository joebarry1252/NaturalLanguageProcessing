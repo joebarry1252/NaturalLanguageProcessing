{
 "cells": [
  {
   "cell_type": "markdown",
   "metadata": {},
   "source": [
    "# Unit 12 - Tales from the Crypto\n",
    "\n",
    "---\n"
   ]
  },
  {
   "cell_type": "markdown",
   "metadata": {},
   "source": [
    "## 1. Sentiment Analysis\n",
    "\n",
    "Use the [newsapi](https://newsapi.org/) to pull the latest news articles for Bitcoin and Ethereum and create a DataFrame of sentiment scores for each coin.\n",
    "\n",
    "Use descriptive statistics to answer the following questions:\n",
    "1. Which coin had the highest mean positive score?\n",
    "2. Which coin had the highest negative score?\n",
    "3. Which coin had the highest positive score?"
   ]
  },
  {
   "cell_type": "code",
   "execution_count": 1,
   "metadata": {},
   "outputs": [
    {
     "name": "stderr",
     "output_type": "stream",
     "text": [
      "[nltk_data] Downloading package vader_lexicon to\n",
      "[nltk_data]     /Users/josephbarry/nltk_data...\n",
      "[nltk_data]   Package vader_lexicon is already up-to-date!\n"
     ]
    }
   ],
   "source": [
    "# Initial imports\n",
    "import os\n",
    "import pandas as pd\n",
    "from pathlib import Path\n",
    "from dotenv import load_dotenv\n",
    "import nltk as nltk\n",
    "nltk.download('vader_lexicon')\n",
    "from nltk.sentiment.vader import SentimentIntensityAnalyzer\n",
    "analyzer = SentimentIntensityAnalyzer()\n",
    "from newsapi import NewsApiClient\n",
    "import pprint as pprint\n",
    "\n",
    "%matplotlib inline"
   ]
  },
  {
   "cell_type": "code",
   "execution_count": 2,
   "metadata": {},
   "outputs": [
    {
     "data": {
      "text/plain": [
       "True"
      ]
     },
     "execution_count": 2,
     "metadata": {},
     "output_type": "execute_result"
    }
   ],
   "source": [
    "load_dotenv()"
   ]
  },
  {
   "cell_type": "code",
   "execution_count": 3,
   "metadata": {},
   "outputs": [],
   "source": [
    "# Read your api key environment variable\n",
    "api_key = os.getenv(\"news_api\")"
   ]
  },
  {
   "cell_type": "code",
   "execution_count": 4,
   "metadata": {},
   "outputs": [],
   "source": [
    "# Create a newsapi client\n",
    "newsapi = NewsApiClient(api_key=api_key)"
   ]
  },
  {
   "cell_type": "code",
   "execution_count": 5,
   "metadata": {},
   "outputs": [],
   "source": [
    "# Fetch the Bitcoin news articles\n",
    "bitcoin_news = newsapi.get_everything(\n",
    "    q=\"bitcoin\",\n",
    "    language=\"en\"\n",
    ")\n",
    "#bitcoin_news"
   ]
  },
  {
   "cell_type": "code",
   "execution_count": 6,
   "metadata": {},
   "outputs": [],
   "source": [
    "# Fetch the Ethereum news articles\n",
    "ethereum_news = newsapi.get_everything(\n",
    "    q=\"ethereum\",\n",
    "    language=\"en\"\n",
    ")"
   ]
  },
  {
   "cell_type": "code",
   "execution_count": 7,
   "metadata": {},
   "outputs": [
    {
     "name": "stdout",
     "output_type": "stream",
     "text": [
      "Total articles about Bitcoin: 12480\n"
     ]
    }
   ],
   "source": [
    "print(f\"Total articles about Bitcoin: {bitcoin_news['totalResults']}\")"
   ]
  },
  {
   "cell_type": "code",
   "execution_count": 8,
   "metadata": {},
   "outputs": [
    {
     "name": "stdout",
     "output_type": "stream",
     "text": [
      "Total articles about Ethereum: 4172\n"
     ]
    }
   ],
   "source": [
    "print(f\"Total articles about Ethereum: {ethereum_news['totalResults']}\")"
   ]
  },
  {
   "cell_type": "code",
   "execution_count": 9,
   "metadata": {},
   "outputs": [
    {
     "data": {
      "text/plain": [
       "{'source': {'id': 'engadget', 'name': 'Engadget'},\n",
       " 'author': 'https://www.engadget.com/about/editors/richard-lawler',\n",
       " 'title': \"Tesla 'suspends' Bitcoin car purchases citing environmental impact\",\n",
       " 'description': \"You can't buy a Tesla with Bitcoin anymore..\",\n",
       " 'url': 'https://www.engadget.com/elon-musk-bitcoin-221708146.html',\n",
       " 'urlToImage': 'https://s.yimg.com/os/creatr-uploaded-images/2021-05/a0f90c30-b36f-11eb-aff6-04fb28cf2f4b',\n",
       " 'publishedAt': '2021-05-12T22:17:08Z',\n",
       " 'content': 'Just weeks after Tesla started accepting Bitcoin as currency for cars, Elon Musk revealed in a tweet that it will \"suspend\" the effort. According to the release (Tesla does not appear to have a funct… [+768 chars]'}"
      ]
     },
     "execution_count": 9,
     "metadata": {},
     "output_type": "execute_result"
    }
   ],
   "source": [
    "bitcoin_news[\"articles\"][0]"
   ]
  },
  {
   "cell_type": "code",
   "execution_count": 10,
   "metadata": {},
   "outputs": [],
   "source": [
    "bitcoin_articles = bitcoin_news[\"articles\"]\n",
    "ethereum_articles = ethereum_news[\"articles\"]"
   ]
  },
  {
   "cell_type": "code",
   "execution_count": 11,
   "metadata": {},
   "outputs": [
    {
     "data": {
      "text/html": [
       "<div>\n",
       "<style scoped>\n",
       "    .dataframe tbody tr th:only-of-type {\n",
       "        vertical-align: middle;\n",
       "    }\n",
       "\n",
       "    .dataframe tbody tr th {\n",
       "        vertical-align: top;\n",
       "    }\n",
       "\n",
       "    .dataframe thead th {\n",
       "        text-align: right;\n",
       "    }\n",
       "</style>\n",
       "<table border=\"1\" class=\"dataframe\">\n",
       "  <thead>\n",
       "    <tr style=\"text-align: right;\">\n",
       "      <th></th>\n",
       "      <th>date</th>\n",
       "      <th>text</th>\n",
       "      <th>compound</th>\n",
       "      <th>positive</th>\n",
       "      <th>negative</th>\n",
       "      <th>neutral</th>\n",
       "    </tr>\n",
       "  </thead>\n",
       "  <tbody>\n",
       "    <tr>\n",
       "      <th>0</th>\n",
       "      <td>2021-05-12</td>\n",
       "      <td>Just weeks after Tesla started accepting Bitco...</td>\n",
       "      <td>0.3818</td>\n",
       "      <td>0.071</td>\n",
       "      <td>0.00</td>\n",
       "      <td>0.929</td>\n",
       "    </tr>\n",
       "    <tr>\n",
       "      <th>1</th>\n",
       "      <td>2021-05-07</td>\n",
       "      <td>Shares of Square are up more than 6% today aft...</td>\n",
       "      <td>0.2960</td>\n",
       "      <td>0.058</td>\n",
       "      <td>0.00</td>\n",
       "      <td>0.942</td>\n",
       "    </tr>\n",
       "    <tr>\n",
       "      <th>2</th>\n",
       "      <td>2021-05-12</td>\n",
       "      <td>Image: Tesla\\r\\n\\n \\n\\n Tesla has stopped acce...</td>\n",
       "      <td>0.4939</td>\n",
       "      <td>0.134</td>\n",
       "      <td>0.05</td>\n",
       "      <td>0.816</td>\n",
       "    </tr>\n",
       "    <tr>\n",
       "      <th>3</th>\n",
       "      <td>2021-05-19</td>\n",
       "      <td>Illustration by Alex Castro / The Verge\\r\\n\\n ...</td>\n",
       "      <td>0.0000</td>\n",
       "      <td>0.000</td>\n",
       "      <td>0.00</td>\n",
       "      <td>1.000</td>\n",
       "    </tr>\n",
       "    <tr>\n",
       "      <th>4</th>\n",
       "      <td>2021-05-17</td>\n",
       "      <td>Last week, whenElon Musk tweeted that he had s...</td>\n",
       "      <td>0.4754</td>\n",
       "      <td>0.075</td>\n",
       "      <td>0.00</td>\n",
       "      <td>0.925</td>\n",
       "    </tr>\n",
       "  </tbody>\n",
       "</table>\n",
       "</div>"
      ],
      "text/plain": [
       "         date                                               text  compound  \\\n",
       "0  2021-05-12  Just weeks after Tesla started accepting Bitco...    0.3818   \n",
       "1  2021-05-07  Shares of Square are up more than 6% today aft...    0.2960   \n",
       "2  2021-05-12  Image: Tesla\\r\\n\\n \\n\\n Tesla has stopped acce...    0.4939   \n",
       "3  2021-05-19  Illustration by Alex Castro / The Verge\\r\\n\\n ...    0.0000   \n",
       "4  2021-05-17  Last week, whenElon Musk tweeted that he had s...    0.4754   \n",
       "\n",
       "   positive  negative  neutral  \n",
       "0     0.071      0.00    0.929  \n",
       "1     0.058      0.00    0.942  \n",
       "2     0.134      0.05    0.816  \n",
       "3     0.000      0.00    1.000  \n",
       "4     0.075      0.00    0.925  "
      ]
     },
     "execution_count": 11,
     "metadata": {},
     "output_type": "execute_result"
    }
   ],
   "source": [
    "# Create the Bitcoin sentiment scores DataFrame\n",
    "\n",
    "bitcoin_sentiments = []\n",
    "\n",
    "for article in bitcoin_news[\"articles\"]:\n",
    "    try:\n",
    "        text = article['content']\n",
    "        date = article['publishedAt'][:10]\n",
    "        sentiment = analyzer.polarity_scores(text)\n",
    "        compound = sentiment['compound']\n",
    "        pos = sentiment['pos']\n",
    "        neu = sentiment['neu']\n",
    "        neg = sentiment['neg']\n",
    "        \n",
    "        bitcoin_sentiments.append({\n",
    "            \"text\": text,\n",
    "            \"date\": date,\n",
    "            \"compound\": compound,\n",
    "            \"positive\": pos,\n",
    "            \"negative\": neg,\n",
    "            \"neutral\": neu\n",
    "        })\n",
    "    \n",
    "    except AttributeError:\n",
    "        pass\n",
    "    \n",
    "bitcoin_df = pd.DataFrame(bitcoin_sentiments)\n",
    "\n",
    "cols = [\"date\", \"text\", \"compound\", \"positive\", \"negative\", \"neutral\"]\n",
    "bitcoin_df = bitcoin_df[cols]\n",
    "\n",
    "bitcoin_df.head()\n",
    "#print(bitcoin_df[\"text\"])"
   ]
  },
  {
   "cell_type": "code",
   "execution_count": 12,
   "metadata": {},
   "outputs": [
    {
     "data": {
      "text/html": [
       "<div>\n",
       "<style scoped>\n",
       "    .dataframe tbody tr th:only-of-type {\n",
       "        vertical-align: middle;\n",
       "    }\n",
       "\n",
       "    .dataframe tbody tr th {\n",
       "        vertical-align: top;\n",
       "    }\n",
       "\n",
       "    .dataframe thead th {\n",
       "        text-align: right;\n",
       "    }\n",
       "</style>\n",
       "<table border=\"1\" class=\"dataframe\">\n",
       "  <thead>\n",
       "    <tr style=\"text-align: right;\">\n",
       "      <th></th>\n",
       "      <th>date</th>\n",
       "      <th>text</th>\n",
       "      <th>compound</th>\n",
       "      <th>positive</th>\n",
       "      <th>negative</th>\n",
       "      <th>neutral</th>\n",
       "    </tr>\n",
       "  </thead>\n",
       "  <tbody>\n",
       "    <tr>\n",
       "      <th>0</th>\n",
       "      <td>2021-05-12</td>\n",
       "      <td>Vitalik Buterin, the creator of Ethereum, on W...</td>\n",
       "      <td>0.2263</td>\n",
       "      <td>0.060</td>\n",
       "      <td>0.000</td>\n",
       "      <td>0.940</td>\n",
       "    </tr>\n",
       "    <tr>\n",
       "      <th>1</th>\n",
       "      <td>2021-05-15</td>\n",
       "      <td>Solana isn’t known yet outside of the crypto c...</td>\n",
       "      <td>0.5499</td>\n",
       "      <td>0.106</td>\n",
       "      <td>0.000</td>\n",
       "      <td>0.894</td>\n",
       "    </tr>\n",
       "    <tr>\n",
       "      <th>2</th>\n",
       "      <td>2021-05-19</td>\n",
       "      <td>Bitcoin, Ethereum and a host of Altcoins suffe...</td>\n",
       "      <td>-0.2023</td>\n",
       "      <td>0.066</td>\n",
       "      <td>0.087</td>\n",
       "      <td>0.847</td>\n",
       "    </tr>\n",
       "    <tr>\n",
       "      <th>3</th>\n",
       "      <td>2021-05-20</td>\n",
       "      <td></td>\n",
       "      <td>0.0000</td>\n",
       "      <td>0.000</td>\n",
       "      <td>0.000</td>\n",
       "      <td>0.000</td>\n",
       "    </tr>\n",
       "    <tr>\n",
       "      <th>4</th>\n",
       "      <td>2021-05-07</td>\n",
       "      <td>NEW YORK, May 7 (Reuters) - Ethereum has outpe...</td>\n",
       "      <td>0.1027</td>\n",
       "      <td>0.046</td>\n",
       "      <td>0.000</td>\n",
       "      <td>0.954</td>\n",
       "    </tr>\n",
       "  </tbody>\n",
       "</table>\n",
       "</div>"
      ],
      "text/plain": [
       "         date                                               text  compound  \\\n",
       "0  2021-05-12  Vitalik Buterin, the creator of Ethereum, on W...    0.2263   \n",
       "1  2021-05-15  Solana isn’t known yet outside of the crypto c...    0.5499   \n",
       "2  2021-05-19  Bitcoin, Ethereum and a host of Altcoins suffe...   -0.2023   \n",
       "3  2021-05-20                                                       0.0000   \n",
       "4  2021-05-07  NEW YORK, May 7 (Reuters) - Ethereum has outpe...    0.1027   \n",
       "\n",
       "   positive  negative  neutral  \n",
       "0     0.060     0.000    0.940  \n",
       "1     0.106     0.000    0.894  \n",
       "2     0.066     0.087    0.847  \n",
       "3     0.000     0.000    0.000  \n",
       "4     0.046     0.000    0.954  "
      ]
     },
     "execution_count": 12,
     "metadata": {},
     "output_type": "execute_result"
    }
   ],
   "source": [
    "# Create the Ethereum sentiment scores DataFrame\n",
    "ethereum_sentiments = []\n",
    "\n",
    "for article in ethereum_news[\"articles\"]:\n",
    "    try:\n",
    "        text = article['content']\n",
    "        date = article['publishedAt'][:10]\n",
    "        sentiment = analyzer.polarity_scores(text)\n",
    "        compound = sentiment['compound']\n",
    "        pos = sentiment['pos']\n",
    "        neu = sentiment['neu']\n",
    "        neg = sentiment['neg']\n",
    "        \n",
    "        ethereum_sentiments.append({\n",
    "            \"text\": text,\n",
    "            \"date\": date,\n",
    "            \"compound\": compound,\n",
    "            \"positive\": pos,\n",
    "            \"negative\": neg,\n",
    "            \"neutral\": neu\n",
    "        })\n",
    "    \n",
    "    except AttributeError:\n",
    "        pass\n",
    "    \n",
    "ethereum_df = pd.DataFrame(ethereum_sentiments)\n",
    "\n",
    "cols = [\"date\", \"text\", \"compound\", \"positive\", \"negative\", \"neutral\"]\n",
    "ethereum_df = ethereum_df[cols]\n",
    "\n",
    "ethereum_df.head()"
   ]
  },
  {
   "cell_type": "code",
   "execution_count": 13,
   "metadata": {},
   "outputs": [
    {
     "data": {
      "text/html": [
       "<div>\n",
       "<style scoped>\n",
       "    .dataframe tbody tr th:only-of-type {\n",
       "        vertical-align: middle;\n",
       "    }\n",
       "\n",
       "    .dataframe tbody tr th {\n",
       "        vertical-align: top;\n",
       "    }\n",
       "\n",
       "    .dataframe thead th {\n",
       "        text-align: right;\n",
       "    }\n",
       "</style>\n",
       "<table border=\"1\" class=\"dataframe\">\n",
       "  <thead>\n",
       "    <tr style=\"text-align: right;\">\n",
       "      <th></th>\n",
       "      <th>compound</th>\n",
       "      <th>positive</th>\n",
       "      <th>negative</th>\n",
       "      <th>neutral</th>\n",
       "    </tr>\n",
       "  </thead>\n",
       "  <tbody>\n",
       "    <tr>\n",
       "      <th>count</th>\n",
       "      <td>20.000000</td>\n",
       "      <td>20.000000</td>\n",
       "      <td>20.00000</td>\n",
       "      <td>20.000000</td>\n",
       "    </tr>\n",
       "    <tr>\n",
       "      <th>mean</th>\n",
       "      <td>0.249445</td>\n",
       "      <td>0.088450</td>\n",
       "      <td>0.03805</td>\n",
       "      <td>0.873550</td>\n",
       "    </tr>\n",
       "    <tr>\n",
       "      <th>std</th>\n",
       "      <td>0.463184</td>\n",
       "      <td>0.072314</td>\n",
       "      <td>0.05079</td>\n",
       "      <td>0.072222</td>\n",
       "    </tr>\n",
       "    <tr>\n",
       "      <th>min</th>\n",
       "      <td>-0.762700</td>\n",
       "      <td>0.000000</td>\n",
       "      <td>0.00000</td>\n",
       "      <td>0.736000</td>\n",
       "    </tr>\n",
       "    <tr>\n",
       "      <th>25%</th>\n",
       "      <td>0.000000</td>\n",
       "      <td>0.043500</td>\n",
       "      <td>0.00000</td>\n",
       "      <td>0.820750</td>\n",
       "    </tr>\n",
       "    <tr>\n",
       "      <th>50%</th>\n",
       "      <td>0.360900</td>\n",
       "      <td>0.071000</td>\n",
       "      <td>0.00000</td>\n",
       "      <td>0.869500</td>\n",
       "    </tr>\n",
       "    <tr>\n",
       "      <th>75%</th>\n",
       "      <td>0.577875</td>\n",
       "      <td>0.155250</td>\n",
       "      <td>0.06800</td>\n",
       "      <td>0.929000</td>\n",
       "    </tr>\n",
       "    <tr>\n",
       "      <th>max</th>\n",
       "      <td>0.845500</td>\n",
       "      <td>0.217000</td>\n",
       "      <td>0.18000</td>\n",
       "      <td>1.000000</td>\n",
       "    </tr>\n",
       "  </tbody>\n",
       "</table>\n",
       "</div>"
      ],
      "text/plain": [
       "        compound   positive  negative    neutral\n",
       "count  20.000000  20.000000  20.00000  20.000000\n",
       "mean    0.249445   0.088450   0.03805   0.873550\n",
       "std     0.463184   0.072314   0.05079   0.072222\n",
       "min    -0.762700   0.000000   0.00000   0.736000\n",
       "25%     0.000000   0.043500   0.00000   0.820750\n",
       "50%     0.360900   0.071000   0.00000   0.869500\n",
       "75%     0.577875   0.155250   0.06800   0.929000\n",
       "max     0.845500   0.217000   0.18000   1.000000"
      ]
     },
     "execution_count": 13,
     "metadata": {},
     "output_type": "execute_result"
    }
   ],
   "source": [
    "# Describe the Bitcoin Sentiment\n",
    "bitcoin_df.describe()"
   ]
  },
  {
   "cell_type": "code",
   "execution_count": 14,
   "metadata": {},
   "outputs": [
    {
     "data": {
      "text/html": [
       "<div>\n",
       "<style scoped>\n",
       "    .dataframe tbody tr th:only-of-type {\n",
       "        vertical-align: middle;\n",
       "    }\n",
       "\n",
       "    .dataframe tbody tr th {\n",
       "        vertical-align: top;\n",
       "    }\n",
       "\n",
       "    .dataframe thead th {\n",
       "        text-align: right;\n",
       "    }\n",
       "</style>\n",
       "<table border=\"1\" class=\"dataframe\">\n",
       "  <thead>\n",
       "    <tr style=\"text-align: right;\">\n",
       "      <th></th>\n",
       "      <th>compound</th>\n",
       "      <th>positive</th>\n",
       "      <th>negative</th>\n",
       "      <th>neutral</th>\n",
       "    </tr>\n",
       "  </thead>\n",
       "  <tbody>\n",
       "    <tr>\n",
       "      <th>count</th>\n",
       "      <td>20.000000</td>\n",
       "      <td>20.000000</td>\n",
       "      <td>20.00000</td>\n",
       "      <td>20.000000</td>\n",
       "    </tr>\n",
       "    <tr>\n",
       "      <th>mean</th>\n",
       "      <td>0.086070</td>\n",
       "      <td>0.053550</td>\n",
       "      <td>0.02560</td>\n",
       "      <td>0.870850</td>\n",
       "    </tr>\n",
       "    <tr>\n",
       "      <th>std</th>\n",
       "      <td>0.337067</td>\n",
       "      <td>0.052906</td>\n",
       "      <td>0.05373</td>\n",
       "      <td>0.216953</td>\n",
       "    </tr>\n",
       "    <tr>\n",
       "      <th>min</th>\n",
       "      <td>-0.585900</td>\n",
       "      <td>0.000000</td>\n",
       "      <td>0.00000</td>\n",
       "      <td>0.000000</td>\n",
       "    </tr>\n",
       "    <tr>\n",
       "      <th>25%</th>\n",
       "      <td>0.000000</td>\n",
       "      <td>0.000000</td>\n",
       "      <td>0.00000</td>\n",
       "      <td>0.850000</td>\n",
       "    </tr>\n",
       "    <tr>\n",
       "      <th>50%</th>\n",
       "      <td>0.025800</td>\n",
       "      <td>0.055500</td>\n",
       "      <td>0.00000</td>\n",
       "      <td>0.932000</td>\n",
       "    </tr>\n",
       "    <tr>\n",
       "      <th>75%</th>\n",
       "      <td>0.238025</td>\n",
       "      <td>0.068000</td>\n",
       "      <td>0.00000</td>\n",
       "      <td>0.971500</td>\n",
       "    </tr>\n",
       "    <tr>\n",
       "      <th>max</th>\n",
       "      <td>0.670500</td>\n",
       "      <td>0.188000</td>\n",
       "      <td>0.15100</td>\n",
       "      <td>1.000000</td>\n",
       "    </tr>\n",
       "  </tbody>\n",
       "</table>\n",
       "</div>"
      ],
      "text/plain": [
       "        compound   positive  negative    neutral\n",
       "count  20.000000  20.000000  20.00000  20.000000\n",
       "mean    0.086070   0.053550   0.02560   0.870850\n",
       "std     0.337067   0.052906   0.05373   0.216953\n",
       "min    -0.585900   0.000000   0.00000   0.000000\n",
       "25%     0.000000   0.000000   0.00000   0.850000\n",
       "50%     0.025800   0.055500   0.00000   0.932000\n",
       "75%     0.238025   0.068000   0.00000   0.971500\n",
       "max     0.670500   0.188000   0.15100   1.000000"
      ]
     },
     "execution_count": 14,
     "metadata": {},
     "output_type": "execute_result"
    }
   ],
   "source": [
    "# Describe the Ethereum Sentiment\n",
    "ethereum_df.describe()"
   ]
  },
  {
   "cell_type": "code",
   "execution_count": 15,
   "metadata": {},
   "outputs": [],
   "source": [
    "bitcoin_rawtext = bitcoin_df['text']\n",
    "ethereum_rawtext = ethereum_df['text']"
   ]
  },
  {
   "cell_type": "markdown",
   "metadata": {},
   "source": [
    "### Questions:\n",
    "\n",
    "Q: Which coin had the highest mean positive score?\n",
    "\n",
    "A: \n",
    "\n",
    "Q: Which coin had the highest compound score?\n",
    "\n",
    "A: \n",
    "\n",
    "Q. Which coin had the highest positive score?\n",
    "\n",
    "A: "
   ]
  },
  {
   "cell_type": "markdown",
   "metadata": {},
   "source": [
    "---"
   ]
  },
  {
   "cell_type": "markdown",
   "metadata": {},
   "source": [
    "## 2. Natural Language Processing\n",
    "---\n",
    "###   Tokenizer\n",
    "\n",
    "In this section, you will use NLTK and Python to tokenize the text for each coin. Be sure to:\n",
    "1. Lowercase each word.\n",
    "2. Remove Punctuation.\n",
    "3. Remove Stopwords."
   ]
  },
  {
   "cell_type": "code",
   "execution_count": 16,
   "metadata": {},
   "outputs": [],
   "source": [
    "from nltk.tokenize import word_tokenize, sent_tokenize\n",
    "from nltk.corpus import stopwords, reuters\n",
    "from nltk.stem import WordNetLemmatizer, PorterStemmer\n",
    "from string import punctuation\n",
    "import re"
   ]
  },
  {
   "cell_type": "code",
   "execution_count": 17,
   "metadata": {},
   "outputs": [
    {
     "name": "stderr",
     "output_type": "stream",
     "text": [
      "[nltk_data] Downloading package reuters to\n",
      "[nltk_data]     /Users/josephbarry/nltk_data...\n",
      "[nltk_data]   Package reuters is already up-to-date!\n",
      "[nltk_data] Downloading package stopwords to\n",
      "[nltk_data]     /Users/josephbarry/nltk_data...\n",
      "[nltk_data]   Package stopwords is already up-to-date!\n",
      "[nltk_data] Downloading package punkt to\n",
      "[nltk_data]     /Users/josephbarry/nltk_data...\n",
      "[nltk_data]   Package punkt is already up-to-date!\n",
      "[nltk_data] Downloading package wordnet to\n",
      "[nltk_data]     /Users/josephbarry/nltk_data...\n",
      "[nltk_data]   Package wordnet is already up-to-date!\n"
     ]
    },
    {
     "data": {
      "text/plain": [
       "True"
      ]
     },
     "execution_count": 17,
     "metadata": {},
     "output_type": "execute_result"
    }
   ],
   "source": [
    "import nltk\n",
    "nltk.download('reuters')\n",
    "nltk.download('stopwords')\n",
    "nltk.download('punkt')\n",
    "nltk.download('wordnet')"
   ]
  },
  {
   "cell_type": "code",
   "execution_count": 18,
   "metadata": {},
   "outputs": [],
   "source": [
    "# Instantiate the lemmatizer\n",
    "lemmatizer = WordNetLemmatizer()\n"
   ]
  },
  {
   "cell_type": "code",
   "execution_count": 42,
   "metadata": {},
   "outputs": [
    {
     "data": {
      "text/plain": [
       "[['Just weeks after Tesla started accepting Bitcoin as currency for cars, Elon Musk revealed in a tweet that it will \"suspend\" the effort.',\n",
       "  'According to the release (Tesla does not appear to have a funct… [+768 chars]'],\n",
       " ['Shares of Square are up more than 6% today after the American fintech company reported a staggering $5.06 billion in revenue in its Q1 2021 earnings report, far ahead of an expected tally of $3.36 bi… [+2045 chars]'],\n",
       " ['Image: Tesla\\r\\n\\n \\n\\n Tesla has stopped accepting bitcoin as payment for its cars out of concern that it will contribute to greater consumption of fossil fuels, according to a statement CEO Elon Musk tw… [+853 chars]'],\n",
       " ['Illustration by Alex Castro / The Verge\\r\\n\\n \\n\\n Cryptocurrency exchange Coinbase is experiencing a “partial” outage this morning for its entire site and application.',\n",
       "  'Additionally, both Coinbase and Bin… [+1307 chars]'],\n",
       " ['Last week, whenElon Musk tweeted that he had spoken with the team of Doge developers about how to make the coin more efficient, the impact was predictable: It sent Dogecoin to the moon.',\n",
       "  'It was just t… [+3313 chars]'],\n",
       " ['Mark Zuckerberg posted a picture of his two, frankly adorable, goats noting their names are Max and Bitcoin.',\n",
       "  'And to that I say: OK then.',\n",
       "  \"Here's the post in question.\",\n",
       "  'Look at those cute little go… [+1482 chars]'],\n",
       " ['Tesla CEO Elon Musk has changed his stance on cryptocurrency.',\n",
       "  'Back in March, Musk announced Tesla was accepting Bitcoin for its electric cars.',\n",
       "  'Earlier this year the EV company even bought $1.5 billi… [+1308 chars]'],\n",
       " ['That love affair between Elon Musk and Bitcoin?',\n",
       "  \"It's just become complicated.\",\n",
       "  \"It's been a rough couple of days in crypto world, with prices of most major crypto assets plummeting Bitcoin, in partic… [+6347 chars]\"],\n",
       " ['Bitcoin, Ethereum and a host of Altcoins suffered massive drops Tuesday night and Wednesday morning, erasing months of gains and hundreds of billions in market cap.',\n",
       "  'The overall crypto market shrunk m… [+1182 chars]'],\n",
       " ['Three years after its inception, crypto financial service provider Babel Finance is racking up fundings and partnerships from major institutional investors.',\n",
       "  'The startup said Monday that it has closed… [+2610 chars]'],\n",
       " [\"Now isn't the greatest time to be a cryptocurrency trader.\",\n",
       "  'Coinbase suffered an hours-long outage this morning (May 19th) that hindered transactions on the exchange.',\n",
       "  'The company had pinpointed the ma… [+909 chars]'],\n",
       " ['Hello friends, and welcome back to Week in Review!',\n",
       "  'Last week, I wrote about tech taking on Disney.',\n",
       "  'This week, I’m talking about the search for a new crypto messiah.',\n",
       "  'If youre reading this on the Tec… [+7741 chars]'],\n",
       " ['In spite of the environmental and regulatory ills that generally come with crypto as a currency, PayPals bitcoin ambitions keep on ramping up.',\n",
       "  'On Wednesday, Jose Fernandez da Pontethe companys VP of … [+2193 chars]'],\n",
       " [\"When it comes to ransomware, you don't always get what you pay for.\",\n",
       "  'Colonial Pipeline, which operates more than 5,500 miles of fuel pipelines in the United States, found that out the hard way this … [+1855 chars]'],\n",
       " ['By Mary-Ann RussonBusiness reporter, BBC News\\r\\nimage copyrightGetty Images\\r\\nFormer US President Donald Trump has told Fox Business that he sees Bitcoin as a \"scam\" affecting the value of the US dolla… [+3638 chars]'],\n",
       " ['The ban affects licensed and unlicensed miners alike\\r\\nPhoto by Michele Doying / The Verge\\r\\nIran is temporarily banning cryptocurrency mining after some of the countrys major cities experienced repeat… [+2224 chars]'],\n",
       " ['Hello friends, and welcome back to Week in Review!',\n",
       "  'Last week, I wrote about Facebook’s never-ending Trump problem.',\n",
       "  'This week, I’m looking at Elon Musk’s wild week of whipping crypto markets.',\n",
       "  'If you… [+5768 chars]'],\n",
       " ['Elon Musk really, REALLY likes Dogecoin.',\n",
       "  'After endlessly shilling the joke cryptocurrency on Twitter, in interviews and on television, and after announcing that his company SpaceX will literally se… [+1228 chars]'],\n",
       " ['An Australian computer scientist who alleges he created bitcoin has launched a London High Court lawsuit against 16 software developers in an effort to secure bitcoin worth around 4 billion pounds ($… [+2257 chars]'],\n",
       " ['Bitcoin rebounded to about $50,000 in Asian trading on Thursday after plunging as much as 17% after Elon Musk tweeted Tesla Inc (TSLA.O) had stopped accepting bitcoin to purchase its vehicles due to … [+2506 chars]']]"
      ]
     },
     "execution_count": 42,
     "metadata": {},
     "output_type": "execute_result"
    }
   ],
   "source": [
    "bitcoin_tokenized = [sent_tokenize(i['content']) for i in bitcoin_news['articles']]\n",
    "bitcoin_tokenized"
   ]
  },
  {
   "cell_type": "code",
   "execution_count": 37,
   "metadata": {},
   "outputs": [
    {
     "name": "stdout",
     "output_type": "stream",
     "text": [
      "Just weeks after Tesla started accepting Bitcoin as currency for cars, Elon Musk revealed in a tweet that it will \"suspend\" the effort. According to the release (Tesla does not appear to have a funct… [+768 chars]\n"
     ]
    }
   ],
   "source": [
    "for i in bitcoin_news['articles']:\n",
    "    print(i['content'])\n",
    "    break\n"
   ]
  },
  {
   "cell_type": "code",
   "execution_count": 32,
   "metadata": {},
   "outputs": [
    {
     "data": {
      "text/plain": [
       "{'status': 'ok',\n",
       " 'totalResults': 12480,\n",
       " 'articles': [{'source': {'id': 'engadget', 'name': 'Engadget'},\n",
       "   'author': 'https://www.engadget.com/about/editors/richard-lawler',\n",
       "   'title': \"Tesla 'suspends' Bitcoin car purchases citing environmental impact\",\n",
       "   'description': \"You can't buy a Tesla with Bitcoin anymore..\",\n",
       "   'url': 'https://www.engadget.com/elon-musk-bitcoin-221708146.html',\n",
       "   'urlToImage': 'https://s.yimg.com/os/creatr-uploaded-images/2021-05/a0f90c30-b36f-11eb-aff6-04fb28cf2f4b',\n",
       "   'publishedAt': '2021-05-12T22:17:08Z',\n",
       "   'content': 'Just weeks after Tesla started accepting Bitcoin as currency for cars, Elon Musk revealed in a tweet that it will \"suspend\" the effort. According to the release (Tesla does not appear to have a funct… [+768 chars]'},\n",
       "  {'source': {'id': 'techcrunch', 'name': 'TechCrunch'},\n",
       "   'author': 'Alex Wilhelm',\n",
       "   'title': 'What Square’s smashing earnings tell us about consumer bitcoin demand',\n",
       "   'description': \"Today we're talking Square earnings and its bitcoin base, especially in how it relates to the results of other entities that offer bitcoin sales.\",\n",
       "   'url': 'http://techcrunch.com/2021/05/07/what-squares-smashing-earnings-tell-us-about-consumer-bitcoin-demand/',\n",
       "   'urlToImage': 'https://techcrunch.com/wp-content/uploads/2020/05/NSussman_Techcrunch_Exchange_v3-ORNG.jpg?w=533',\n",
       "   'publishedAt': '2021-05-07T18:17:36Z',\n",
       "   'content': 'Shares of Square are up more than 6% today after the American fintech company reported a staggering $5.06 billion in revenue in its Q1 2021 earnings report, far ahead of an expected tally of $3.36 bi… [+2045 chars]'},\n",
       "  {'source': {'id': 'the-verge', 'name': 'The Verge'},\n",
       "   'author': \"Sean O'Kane\",\n",
       "   'title': 'Tesla stops taking Bitcoin for vehicle purchases, citing environmental harm',\n",
       "   'description': 'Tesla has stopped accepting bitcoin as payment for its cars out of concern that it will contribute to greater consumption of fossil fuels, according to a statement CEO Elon Musk tweeted Wednesday. Tesla had only just started accepting bitcoin in late March.',\n",
       "   'url': 'https://www.theverge.com/2021/5/12/22433153/tesla-suspend-bitcoin-vehicle-purchase-cryptocurrency-elon-musk',\n",
       "   'urlToImage': 'https://cdn.vox-cdn.com/thumbor/zRfsIkD2Sr-2KDlFLtbHFLhAMRQ=/0x194:2782x1651/fit-in/1200x630/cdn.vox-cdn.com/uploads/chorus_asset/file/22264608/Screen_Shot_2021_01_27_at_6.50.29_PM.png',\n",
       "   'publishedAt': '2021-05-12T22:21:15Z',\n",
       "   'content': 'Image: Tesla\\r\\n\\n \\n\\n Tesla has stopped accepting bitcoin as payment for its cars out of concern that it will contribute to greater consumption of fossil fuels, according to a statement CEO Elon Musk tw… [+853 chars]'},\n",
       "  {'source': {'id': 'the-verge', 'name': 'The Verge'},\n",
       "   'author': 'Chaim Gartenberg',\n",
       "   'title': 'Coinbase is down amid massive cryptocurrency plunge',\n",
       "   'description': 'Cryptocurrency exchange Coinbase is experiencing a partial outage amid a massive plummet in cryptocurrencies (including Bitcoin, Etherium, and Dogecoin).',\n",
       "   'url': 'https://www.theverge.com/2021/5/19/22443701/coinbase-outage-bitcoin-ethereum-price-falling-cryptocurrency',\n",
       "   'urlToImage': 'https://cdn.vox-cdn.com/thumbor/9inLHdPYtMB1pyO936DAKt3d7b4=/0x215:3000x1786/fit-in/1200x630/cdn.vox-cdn.com/uploads/chorus_asset/file/8954807/acastro_170726_1777_0008.jpg',\n",
       "   'publishedAt': '2021-05-19T13:47:36Z',\n",
       "   'content': 'Illustration by Alex Castro / The Verge\\r\\n\\n \\n\\n Cryptocurrency exchange Coinbase is experiencing a “partial” outage this morning for its entire site and application. Additionally, both Coinbase and Bin… [+1307 chars]'},\n",
       "  {'source': {'id': 'wired', 'name': 'Wired'},\n",
       "   'author': 'Gregory Barber',\n",
       "   'title': 'Elon Musk Tweets—and Crypto Markets Show Their Growing Pains',\n",
       "   'description': 'The Tesla and SpaceX billionaire has sent Dogecoin and Bitcoin on a roller coaster this month—and exposed weaknesses in the cryptocurrency market along the way.',\n",
       "   'url': 'https://www.wired.com/story/elon-musk-dogecoin-bitcoin-tweets-prices/',\n",
       "   'urlToImage': 'https://media.wired.com/photos/60a2ad2130981f87432bec20/191:100/w_1280,c_limit/business_elon-crypto_1232779339.jpg',\n",
       "   'publishedAt': '2021-05-17T23:27:59Z',\n",
       "   'content': 'Last week, whenElon Musk tweeted that he had spoken with the team of Doge developers about how to make the coin more efficient, the impact was predictable: It sent Dogecoin to the moon. It was just t… [+3313 chars]'},\n",
       "  {'source': {'id': 'mashable', 'name': 'Mashable'},\n",
       "   'author': 'Tim Marcin',\n",
       "   'title': \"Mark Zuckerberg has a goat named Bitcoin and we're a little worried for it\",\n",
       "   'description': \"Mark Zuckerberg posted a picture of his two, frankly adorable, goats noting their names are Max and Bitcoin.\\nAnd to that I say: OK then.\\xa0\\nHere's the post in question.\\xa0\\n\\r\\n\\nLook at those cute little goats. Very cute, very nice. Bitcoin looks very chill sitting …\",\n",
       "   'url': 'https://mashable.com/article/mark-zuckerberg-goat-bitcoin-max/',\n",
       "   'urlToImage': 'https://mondrian.mashable.com/2021%252F05%252F11%252Ff9%252Fc8575844ec96490085a7282d7720b9ca.2c086.png%252F1200x630.png?signature=1dgcWR1aQPfyCqMJojVWwsg4hsA=',\n",
       "   'publishedAt': '2021-05-11T14:52:02Z',\n",
       "   'content': \"Mark Zuckerberg posted a picture of his two, frankly adorable, goats noting their names are Max and Bitcoin.\\r\\nAnd to that I say: OK then.\\xa0\\r\\nHere's the post in question.\\xa0\\r\\nLook at those cute little go… [+1482 chars]\"},\n",
       "  {'source': {'id': 'mashable', 'name': 'Mashable'},\n",
       "   'author': 'Sasha Lekach',\n",
       "   'title': 'Elon Musk says Bitcoin no longer accepted for Tesla purchases',\n",
       "   'description': 'Tesla CEO Elon Musk has changed his stance on cryptocurrency.\\nBack in March, Musk announced Tesla was accepting Bitcoin for its electric cars. Earlier this year the EV company even bought $1.5 billion of the cryptocurrency.\\nOn Wednesday afternoon, that all en…',\n",
       "   'url': 'https://mashable.com/article/elon-musk-tesla-suspends-bitcoin/',\n",
       "   'urlToImage': 'https://mondrian.mashable.com/2021%252F05%252F12%252F75%252Fea0b34fd9c0d4ba0827daf209266fda7.7a421.jpg%252F1200x630.jpg?signature=mUM9URJ4N2wk_HmXxVecSZacv00=',\n",
       "   'publishedAt': '2021-05-12T23:33:07Z',\n",
       "   'content': 'Tesla CEO Elon Musk has changed his stance on cryptocurrency.\\r\\nBack in March, Musk announced Tesla was accepting Bitcoin for its electric cars. Earlier this year the EV company even bought $1.5 billi… [+1308 chars]'},\n",
       "  {'source': {'id': 'mashable', 'name': 'Mashable'},\n",
       "   'author': 'Stan Schroeder',\n",
       "   'title': 'Why Elon Musk has suddenly fallen out with Bitcoin',\n",
       "   'description': \"That love affair between Elon Musk and Bitcoin? It's just become complicated.\\xa0\\nIt's been a rough couple of days in crypto world, with prices of most major crypto assets plummeting — Bitcoin, in particular, was trading at about $59,500 last Tuesday, only to dr…\",\n",
       "   'url': 'https://mashable.com/article/elon-musk-bitcoin-complicated/',\n",
       "   'urlToImage': 'https://mondrian.mashable.com/2021%252F05%252F17%252F6e%252F6bb2dd495d334580aa3eae31812e7b81.3039e.jpg%252F1200x630.jpg?signature=Isa1HKpfqBPSn06qogyytaEEA6M=',\n",
       "   'publishedAt': '2021-05-17T09:05:30Z',\n",
       "   'content': \"That love affair between Elon Musk and Bitcoin? It's just become complicated.\\xa0\\r\\nIt's been a rough couple of days in crypto world, with prices of most major crypto assets plummeting Bitcoin, in partic… [+6347 chars]\"},\n",
       "  {'source': {'id': 'techcrunch', 'name': 'TechCrunch'},\n",
       "   'author': 'Lucas Matney',\n",
       "   'title': 'Bitcoin crashes as investors fear crypto bull market could be nearing its end',\n",
       "   'description': 'Bitcoin, Ethereum and a host of Altcoins suffered massive drops Tuesday night and Wednesday morning, erasing months of gains and hundreds of billions in market cap. The overall crypto market shrunk more than 20% over the past 24 hours according to crypto trac…',\n",
       "   'url': 'http://techcrunch.com/2021/05/19/bitcoin-crashes-as-investors-fear-crypto-bull-market-could-be-nearing-its-end/',\n",
       "   'urlToImage': 'https://techcrunch.com/wp-content/uploads/2016/02/shutterstock_121576933.jpg?w=711',\n",
       "   'publishedAt': '2021-05-19T16:05:22Z',\n",
       "   'content': 'Bitcoin, Ethereum and a host of Altcoins suffered massive drops Tuesday night and Wednesday morning, erasing months of gains and hundreds of billions in market cap. The overall crypto market shrunk m… [+1182 chars]'},\n",
       "  {'source': {'id': 'techcrunch', 'name': 'TechCrunch'},\n",
       "   'author': 'Rita Liao',\n",
       "   'title': 'Crypto asset manager Babel raises $40M from Tiger Global, Bertelsmann and others',\n",
       "   'description': 'Three years after its inception, crypto financial service provider Babel Finance is racking up fundings and partnerships from major institutional investors. The startup said Monday that it has closed a $40 million Series A round, with lead investors including…',\n",
       "   'url': 'http://techcrunch.com/2021/05/10/babel-40-million-funding/',\n",
       "   'urlToImage': 'https://techcrunch.com/wp-content/uploads/2021/05/flex-yang-babel-e1620652848769.jpeg?w=749',\n",
       "   'publishedAt': '2021-05-10T13:30:09Z',\n",
       "   'content': 'Three years after its inception, crypto financial service provider Babel Finance is racking up fundings and partnerships from major institutional investors. The startup said Monday that it has closed… [+2610 chars]'},\n",
       "  {'source': {'id': 'engadget', 'name': 'Engadget'},\n",
       "   'author': 'https://www.engadget.com/about/editors/jon-fingas',\n",
       "   'title': 'Coinbase struggles with outages during cryptocurrency volatility',\n",
       "   'description': 'Coinbase is reeling from outages as a massive cryptocurrency selloff takes place..',\n",
       "   'url': 'https://www.engadget.com/coinbase-outage-amid-cryptocurrency-price-drop-150658356.html',\n",
       "   'urlToImage': 'https://s.yimg.com/os/creatr-uploaded-images/2021-05/1f540640-b8af-11eb-9fbf-39d423ba27ac',\n",
       "   'publishedAt': '2021-05-19T15:06:58Z',\n",
       "   'content': \"Now isn't the greatest time to be a cryptocurrency trader. Coinbase suffered an hours-long outage this morning (May 19th) that hindered transactions on the exchange. The company had pinpointed the ma… [+909 chars]\"},\n",
       "  {'source': {'id': 'techcrunch', 'name': 'TechCrunch'},\n",
       "   'author': 'Lucas Matney',\n",
       "   'title': 'In search of a new crypto deity',\n",
       "   'description': 'Hello friends, and welcome back to Week in Review! Last week, I wrote about tech taking on Disney. This week, I’m talking about the search for a new crypto messiah. If you’re reading this on the TechCrunch site, you can get this in your inbox from the newslet…',\n",
       "   'url': 'http://techcrunch.com/2021/06/05/in-search-of-a-new-crypto-deity/',\n",
       "   'urlToImage': 'https://techcrunch.com/wp-content/uploads/2019/02/GettyImages-921871490.jpg?w=600',\n",
       "   'publishedAt': '2021-06-05T19:20:23Z',\n",
       "   'content': 'Hello friends, and welcome back to Week in Review!\\r\\nLast week, I wrote about tech taking on Disney. This week, I’m talking about the search for a new crypto messiah.\\r\\nIf youre reading this on the Tec… [+7741 chars]'},\n",
       "  {'source': {'id': None, 'name': 'Gizmodo.com'},\n",
       "   'author': 'Shoshana Wodinsky',\n",
       "   'title': 'PayPal Will Let Users Transfer Bitcoin to Third-Party Wallets',\n",
       "   'description': 'In spite of the environmental and regulatory ills that generally come with crypto as a currency, PayPal’s bitcoin ambitions keep on ramping up. On Wednesday, Jose Fernandez da Ponte—the company’s VP of all things blockchain—confirmed in an interview that PayP…',\n",
       "   'url': 'https://gizmodo.com/paypal-will-let-users-transfer-bitcoin-to-third-party-w-1846982029',\n",
       "   'urlToImage': 'https://i.kinja-img.com/gawker-media/image/upload/c_fill,f_auto,fl_progressive,g_center,h_675,pg_1,q_80,w_1200/4457df9370749ae7882e139b3d47e571.jpg',\n",
       "   'publishedAt': '2021-05-27T16:25:00Z',\n",
       "   'content': 'In spite of the environmental and regulatory ills that generally come with crypto as a currency, PayPals bitcoin ambitions keep on ramping up. On Wednesday, Jose Fernandez da Pontethe companys VP of … [+2193 chars]'},\n",
       "  {'source': {'id': 'mashable', 'name': 'Mashable'},\n",
       "   'author': 'Jack Morse',\n",
       "   'title': 'Colonial Pipeline reportedly paid millions for slow-ass decryption software',\n",
       "   'description': \"When it comes to ransomware, you don't always get what you pay for.\\xa0\\nColonial Pipeline, which operates more than 5,500 miles of fuel pipelines in the United States, found that out the hard way this week. It reportedly forked over almost $5 million worth of bi…\",\n",
       "   'url': 'https://mashable.com/article/colonial-pipeline-paid-bitcoin-ransomware/',\n",
       "   'urlToImage': 'https://mondrian.mashable.com/2021%252F05%252F13%252F11%252F91994f8e84a34ba4ad3eb6cfe4426fe3.d9b1f.jpg%252F1200x630.jpg?signature=C__bdobb2CCxX0QiSaG8Zn4xNsU=',\n",
       "   'publishedAt': '2021-05-13T20:22:25Z',\n",
       "   'content': \"When it comes to ransomware, you don't always get what you pay for.\\xa0\\r\\nColonial Pipeline, which operates more than 5,500 miles of fuel pipelines in the United States, found that out the hard way this … [+1855 chars]\"},\n",
       "  {'source': {'id': 'bbc-news', 'name': 'BBC News'},\n",
       "   'author': 'https://www.facebook.com/bbcnews',\n",
       "   'title': \"Donald Trump calls Bitcoin 'a scam against the dollar'\",\n",
       "   'description': 'The controversial former US president thinks the cryptocurrency is a threat to the US dollar.',\n",
       "   'url': 'https://www.bbc.co.uk/news/business-57392734',\n",
       "   'urlToImage': 'https://ichef.bbci.co.uk/news/1024/branded_news/BA93/production/_118836774_trump1.jpg',\n",
       "   'publishedAt': '2021-06-08T01:12:59Z',\n",
       "   'content': 'By Mary-Ann RussonBusiness reporter, BBC News\\r\\nimage copyrightGetty Images\\r\\nFormer US President Donald Trump has told Fox Business that he sees Bitcoin as a \"scam\" affecting the value of the US dolla… [+3638 chars]'},\n",
       "  {'source': {'id': 'the-verge', 'name': 'The Verge'},\n",
       "   'author': 'Mitchell Clark',\n",
       "   'title': 'Iran bans cryptocurrency mining for four months to stave off blackouts',\n",
       "   'description': 'As blackouts affect some of Iran’s major cities, the country is banning cryptocurrency mining and going after unlicensed operations. The blackouts have been blamed on a drought affecting hydroelectric generation.',\n",
       "   'url': 'https://www.theverge.com/2021/5/26/22455264/iran-cryptocurrency-mining-ban-annual-summer-bitcoin-spies',\n",
       "   'urlToImage': 'https://cdn.vox-cdn.com/thumbor/I_plGlE5qd5Sl2uU9Luh1kQ4XYg=/0x146:2040x1214/fit-in/1200x630/cdn.vox-cdn.com/uploads/chorus_asset/file/10432805/mdoying_180308_2373_0092still.jpg',\n",
       "   'publishedAt': '2021-05-26T20:34:57Z',\n",
       "   'content': 'The ban affects licensed and unlicensed miners alike\\r\\nPhoto by Michele Doying / The Verge\\r\\nIran is temporarily banning cryptocurrency mining after some of the countrys major cities experienced repeat… [+2224 chars]'},\n",
       "  {'source': {'id': 'techcrunch', 'name': 'TechCrunch'},\n",
       "   'author': 'Lucas Matney',\n",
       "   'title': 'Elon Musk giveth and taketh away',\n",
       "   'description': 'Hello friends, and welcome back to Week in Review! Last week, I wrote about Facebook’s never-ending Trump problem. This week, I’m looking at Elon Musk’s wild week of whipping crypto markets. If you’re reading this on the TechCrunch site, you can get this in y…',\n",
       "   'url': 'http://techcrunch.com/2021/05/16/elon-musk-giveth-and-taketh-away/',\n",
       "   'urlToImage': 'https://techcrunch.com/wp-content/uploads/2018/04/infinitywar5aa86b6fc55c4-2.jpg?w=758',\n",
       "   'publishedAt': '2021-05-16T21:12:04Z',\n",
       "   'content': 'Hello friends, and welcome back to Week in Review!\\r\\nLast week, I wrote about Facebook’s never-ending Trump problem. This week, I’m looking at Elon Musk’s wild week of whipping crypto markets.\\r\\nIf you… [+5768 chars]'},\n",
       "  {'source': {'id': 'mashable', 'name': 'Mashable'},\n",
       "   'author': 'Stan Schroeder',\n",
       "   'title': 'Elon Musk is thinking about letting customers buy a Tesla with DOGE',\n",
       "   'description': 'Elon Musk really, REALLY likes Dogecoin.\\xa0\\nAfter endlessly shilling the joke cryptocurrency on Twitter, in interviews and on television, and after announcing that his company SpaceX will literally send a satellite named Doge-1 to the moon, Musk now seems to be…',\n",
       "   'url': 'https://mashable.com/article/elon-musk-doge-tesla/',\n",
       "   'urlToImage': 'https://mondrian.mashable.com/2021%252F05%252F11%252F26%252F98698bf0f9524f3aa3196077f104fcb0.4bebd.jpg%252F1200x630.jpg?signature=PwHEhIhk-yw-O2BwGYwRZNmgEwI=',\n",
       "   'publishedAt': '2021-05-11T10:29:26Z',\n",
       "   'content': 'Elon Musk really, REALLY likes Dogecoin.\\xa0\\r\\nAfter endlessly shilling the joke cryptocurrency on Twitter, in interviews and on television, and after announcing that his company SpaceX will literally se… [+1228 chars]'},\n",
       "  {'source': {'id': 'reuters', 'name': 'Reuters'},\n",
       "   'author': 'Kirstin Ridley',\n",
       "   'title': \"Australia's Wright launches lawsuit over $5.7 bln bitcoin haul - Reuters\",\n",
       "   'description': 'An Australian computer scientist who alleges he created bitcoin has launched a London High Court lawsuit against 16 software developers in an effort to secure bitcoin worth around 4 billion pounds ($5.7 billion) he says he owns.',\n",
       "   'url': 'https://www.reuters.com/technology/australias-wright-launches-lawsuit-over-57-bln-bitcoin-haul-2021-05-12/',\n",
       "   'urlToImage': None,\n",
       "   'publishedAt': '2021-05-12T14:18:00Z',\n",
       "   'content': 'An Australian computer scientist who alleges he created bitcoin has launched a London High Court lawsuit against 16 software developers in an effort to secure bitcoin worth around 4 billion pounds ($… [+2257 chars]'},\n",
       "  {'source': {'id': 'reuters', 'name': 'Reuters'},\n",
       "   'author': 'Kevin Buckland,Alun John',\n",
       "   'title': 'Bitcoin ticks back in Asia after Musk tweet sent price down 17% - Reuters',\n",
       "   'description': 'Bitcoin  rebounded to about $50,000 in Asian trading on Thursday after plunging as much as 17% after Elon Musk tweeted Tesla Inc (TSLA.O) had stopped accepting bitcoin to purchase its vehicles due to climate concerns.',\n",
       "   'url': 'https://www.reuters.com/technology/bitcoin-ticks-back-asia-after-musk-tweet-sent-price-down-17-2021-05-13/',\n",
       "   'urlToImage': 'https://www.reuters.com/resizer/XkeYpqBG9nC6RYujgGll4xup8K8=/1200x628/smart/cloudfront-us-east-2.images.arcpublishing.com/reuters/RFZH35K2SVPKRPDKY2WS3FBM4M.jpg',\n",
       "   'publishedAt': '2021-05-13T02:29:00Z',\n",
       "   'content': 'Bitcoin rebounded to about $50,000 in Asian trading on Thursday after plunging as much as 17% after Elon Musk tweeted Tesla Inc (TSLA.O) had stopped accepting bitcoin to purchase its vehicles due to … [+2506 chars]'}]}"
      ]
     },
     "execution_count": 32,
     "metadata": {},
     "output_type": "execute_result"
    }
   ],
   "source": [
    "bitcoin_news"
   ]
  },
  {
   "cell_type": "code",
   "execution_count": 20,
   "metadata": {},
   "outputs": [],
   "source": [
    "ethereum_tokenized = [sent_tokenize(i) for i in ethereum_news]"
   ]
  },
  {
   "cell_type": "code",
   "execution_count": 21,
   "metadata": {},
   "outputs": [
    {
     "name": "stdout",
     "output_type": "stream",
     "text": [
      "[['status'], ['totalResults'], ['articles']]\n"
     ]
    }
   ],
   "source": [
    "print(ethereum_tokenized)"
   ]
  },
  {
   "cell_type": "code",
   "execution_count": 22,
   "metadata": {},
   "outputs": [],
   "source": [
    "# Create a list of stopwords\n",
    "sw = set(stopwords.words('english'))\n",
    "regex = re.compile(\"[^a-zA-Z ]\")\n",
    "\n",
    "word_tokenized = []"
   ]
  },
  {
   "cell_type": "code",
   "execution_count": 23,
   "metadata": {},
   "outputs": [],
   "source": [
    "# Complete the tokenizer function\n",
    "def tokenizer(text):\n",
    "    \"\"\"Tokenizes text.\"\"\"\n",
    "    \n",
    "    # Remove the punctuation from text\n",
    "    # Create a tokenized list of the words\n",
    "    # Lemmatize words into root words\n",
    "    # Convert the words to lowercase\n",
    "    # Remove the stop words\n",
    "    sw = set(stopwords.words('english'))\n",
    "    regex = re.compile(\"[^a-zA-Z ]\")\n",
    "    re_clean = regex.sub('', text)\n",
    "    words = word_tokenize(re_clean)\n",
    "    lem = [lemmatizer.lemmatize(word) for word in words]\n",
    "    tokens = [word.lower() for word in lem if word.lower() not in sw]\n",
    "\n",
    "    return tokens"
   ]
  },
  {
   "cell_type": "code",
   "execution_count": 24,
   "metadata": {},
   "outputs": [],
   "source": [
    "# Create a new tokens column for Bitcoin\n",
    "for btc_story in bitcoin_tokenized:\n",
    "    btc_words = []\n",
    "    for btc_sentence in btc_story:\n",
    "        btc_words = btc_words + word_tokenize(btc_sentence)\n",
    "    word_tokenized.append(btc_words)"
   ]
  },
  {
   "cell_type": "code",
   "execution_count": 25,
   "metadata": {},
   "outputs": [],
   "source": [
    "#btc_df = pd.DataFrame({\n",
    "#    'bitcoin_raw': bitcoin_rawtext,\n",
    "#    'bitcoin_tokenized': bitcoin_tokenized,\n",
    "#    'word_tokenized': word_tokenized\n",
    "#})\n",
    "\n",
    "#btc_df.index = "
   ]
  },
  {
   "cell_type": "code",
   "execution_count": 26,
   "metadata": {},
   "outputs": [],
   "source": [
    "# Create a new tokens column for Ethereum\n",
    "for eth_story in ethereum_tokenized:\n",
    "    eth_words = []\n",
    "    for eth_sentence in eth_story:\n",
    "        eth_words = eth_words + word_tokenize(eth_sentence)\n",
    "    word_tokenized.append(eth_words)"
   ]
  },
  {
   "cell_type": "code",
   "execution_count": 27,
   "metadata": {},
   "outputs": [
    {
     "data": {
      "text/html": [
       "<div>\n",
       "<style scoped>\n",
       "    .dataframe tbody tr th:only-of-type {\n",
       "        vertical-align: middle;\n",
       "    }\n",
       "\n",
       "    .dataframe tbody tr th {\n",
       "        vertical-align: top;\n",
       "    }\n",
       "\n",
       "    .dataframe thead th {\n",
       "        text-align: right;\n",
       "    }\n",
       "</style>\n",
       "<table border=\"1\" class=\"dataframe\">\n",
       "  <thead>\n",
       "    <tr style=\"text-align: right;\">\n",
       "      <th></th>\n",
       "      <th>date</th>\n",
       "      <th>text</th>\n",
       "      <th>compound</th>\n",
       "      <th>positive</th>\n",
       "      <th>negative</th>\n",
       "      <th>neutral</th>\n",
       "    </tr>\n",
       "  </thead>\n",
       "  <tbody>\n",
       "    <tr>\n",
       "      <th>0</th>\n",
       "      <td>2021-05-12</td>\n",
       "      <td>Just weeks after Tesla started accepting Bitco...</td>\n",
       "      <td>0.3818</td>\n",
       "      <td>0.071</td>\n",
       "      <td>0.000</td>\n",
       "      <td>0.929</td>\n",
       "    </tr>\n",
       "    <tr>\n",
       "      <th>1</th>\n",
       "      <td>2021-05-07</td>\n",
       "      <td>Shares of Square are up more than 6% today aft...</td>\n",
       "      <td>0.2960</td>\n",
       "      <td>0.058</td>\n",
       "      <td>0.000</td>\n",
       "      <td>0.942</td>\n",
       "    </tr>\n",
       "    <tr>\n",
       "      <th>2</th>\n",
       "      <td>2021-05-12</td>\n",
       "      <td>Image: Tesla\\r\\n\\n \\n\\n Tesla has stopped acce...</td>\n",
       "      <td>0.4939</td>\n",
       "      <td>0.134</td>\n",
       "      <td>0.050</td>\n",
       "      <td>0.816</td>\n",
       "    </tr>\n",
       "    <tr>\n",
       "      <th>3</th>\n",
       "      <td>2021-05-19</td>\n",
       "      <td>Illustration by Alex Castro / The Verge\\r\\n\\n ...</td>\n",
       "      <td>0.0000</td>\n",
       "      <td>0.000</td>\n",
       "      <td>0.000</td>\n",
       "      <td>1.000</td>\n",
       "    </tr>\n",
       "    <tr>\n",
       "      <th>4</th>\n",
       "      <td>2021-05-17</td>\n",
       "      <td>Last week, whenElon Musk tweeted that he had s...</td>\n",
       "      <td>0.4754</td>\n",
       "      <td>0.075</td>\n",
       "      <td>0.000</td>\n",
       "      <td>0.925</td>\n",
       "    </tr>\n",
       "    <tr>\n",
       "      <th>5</th>\n",
       "      <td>2021-05-11</td>\n",
       "      <td>Mark Zuckerberg posted a picture of his two, f...</td>\n",
       "      <td>0.8455</td>\n",
       "      <td>0.217</td>\n",
       "      <td>0.000</td>\n",
       "      <td>0.783</td>\n",
       "    </tr>\n",
       "    <tr>\n",
       "      <th>6</th>\n",
       "      <td>2021-05-12</td>\n",
       "      <td>Tesla CEO Elon Musk has changed his stance on ...</td>\n",
       "      <td>0.3818</td>\n",
       "      <td>0.071</td>\n",
       "      <td>0.000</td>\n",
       "      <td>0.929</td>\n",
       "    </tr>\n",
       "    <tr>\n",
       "      <th>7</th>\n",
       "      <td>2021-05-17</td>\n",
       "      <td>That love affair between Elon Musk and Bitcoin...</td>\n",
       "      <td>0.7322</td>\n",
       "      <td>0.162</td>\n",
       "      <td>0.000</td>\n",
       "      <td>0.838</td>\n",
       "    </tr>\n",
       "    <tr>\n",
       "      <th>8</th>\n",
       "      <td>2021-05-19</td>\n",
       "      <td>Bitcoin, Ethereum and a host of Altcoins suffe...</td>\n",
       "      <td>-0.2023</td>\n",
       "      <td>0.066</td>\n",
       "      <td>0.087</td>\n",
       "      <td>0.847</td>\n",
       "    </tr>\n",
       "    <tr>\n",
       "      <th>9</th>\n",
       "      <td>2021-05-10</td>\n",
       "      <td>Three years after its inception, crypto financ...</td>\n",
       "      <td>0.0000</td>\n",
       "      <td>0.000</td>\n",
       "      <td>0.000</td>\n",
       "      <td>1.000</td>\n",
       "    </tr>\n",
       "    <tr>\n",
       "      <th>10</th>\n",
       "      <td>2021-05-19</td>\n",
       "      <td>Now isn't the greatest time to be a cryptocurr...</td>\n",
       "      <td>-0.7627</td>\n",
       "      <td>0.000</td>\n",
       "      <td>0.180</td>\n",
       "      <td>0.820</td>\n",
       "    </tr>\n",
       "    <tr>\n",
       "      <th>11</th>\n",
       "      <td>2021-06-05</td>\n",
       "      <td>Hello friends, and welcome back to Week in Rev...</td>\n",
       "      <td>0.7500</td>\n",
       "      <td>0.154</td>\n",
       "      <td>0.000</td>\n",
       "      <td>0.846</td>\n",
       "    </tr>\n",
       "    <tr>\n",
       "      <th>12</th>\n",
       "      <td>2021-05-27</td>\n",
       "      <td>In spite of the environmental and regulatory i...</td>\n",
       "      <td>-0.5267</td>\n",
       "      <td>0.000</td>\n",
       "      <td>0.096</td>\n",
       "      <td>0.904</td>\n",
       "    </tr>\n",
       "    <tr>\n",
       "      <th>13</th>\n",
       "      <td>2021-05-13</td>\n",
       "      <td>When it comes to ransomware, you don't always ...</td>\n",
       "      <td>0.2500</td>\n",
       "      <td>0.071</td>\n",
       "      <td>0.071</td>\n",
       "      <td>0.859</td>\n",
       "    </tr>\n",
       "    <tr>\n",
       "      <th>14</th>\n",
       "      <td>2021-06-08</td>\n",
       "      <td>By Mary-Ann RussonBusiness reporter, BBC News\\...</td>\n",
       "      <td>0.3400</td>\n",
       "      <td>0.070</td>\n",
       "      <td>0.000</td>\n",
       "      <td>0.930</td>\n",
       "    </tr>\n",
       "    <tr>\n",
       "      <th>15</th>\n",
       "      <td>2021-05-26</td>\n",
       "      <td>The ban affects licensed and unlicensed miners...</td>\n",
       "      <td>-0.5574</td>\n",
       "      <td>0.000</td>\n",
       "      <td>0.107</td>\n",
       "      <td>0.893</td>\n",
       "    </tr>\n",
       "    <tr>\n",
       "      <th>16</th>\n",
       "      <td>2021-05-16</td>\n",
       "      <td>Hello friends, and welcome back to Week in Rev...</td>\n",
       "      <td>0.5707</td>\n",
       "      <td>0.159</td>\n",
       "      <td>0.067</td>\n",
       "      <td>0.773</td>\n",
       "    </tr>\n",
       "    <tr>\n",
       "      <th>17</th>\n",
       "      <td>2021-05-11</td>\n",
       "      <td>Elon Musk really, REALLY likes Dogecoin. \\r\\nA...</td>\n",
       "      <td>0.7434</td>\n",
       "      <td>0.179</td>\n",
       "      <td>0.000</td>\n",
       "      <td>0.821</td>\n",
       "    </tr>\n",
       "    <tr>\n",
       "      <th>18</th>\n",
       "      <td>2021-05-12</td>\n",
       "      <td>An Australian computer scientist who alleges h...</td>\n",
       "      <td>0.5994</td>\n",
       "      <td>0.213</td>\n",
       "      <td>0.052</td>\n",
       "      <td>0.736</td>\n",
       "    </tr>\n",
       "    <tr>\n",
       "      <th>19</th>\n",
       "      <td>2021-05-13</td>\n",
       "      <td>Bitcoin rebounded to about $50,000 in Asian tr...</td>\n",
       "      <td>0.1779</td>\n",
       "      <td>0.069</td>\n",
       "      <td>0.051</td>\n",
       "      <td>0.880</td>\n",
       "    </tr>\n",
       "  </tbody>\n",
       "</table>\n",
       "</div>"
      ],
      "text/plain": [
       "          date                                               text  compound  \\\n",
       "0   2021-05-12  Just weeks after Tesla started accepting Bitco...    0.3818   \n",
       "1   2021-05-07  Shares of Square are up more than 6% today aft...    0.2960   \n",
       "2   2021-05-12  Image: Tesla\\r\\n\\n \\n\\n Tesla has stopped acce...    0.4939   \n",
       "3   2021-05-19  Illustration by Alex Castro / The Verge\\r\\n\\n ...    0.0000   \n",
       "4   2021-05-17  Last week, whenElon Musk tweeted that he had s...    0.4754   \n",
       "5   2021-05-11  Mark Zuckerberg posted a picture of his two, f...    0.8455   \n",
       "6   2021-05-12  Tesla CEO Elon Musk has changed his stance on ...    0.3818   \n",
       "7   2021-05-17  That love affair between Elon Musk and Bitcoin...    0.7322   \n",
       "8   2021-05-19  Bitcoin, Ethereum and a host of Altcoins suffe...   -0.2023   \n",
       "9   2021-05-10  Three years after its inception, crypto financ...    0.0000   \n",
       "10  2021-05-19  Now isn't the greatest time to be a cryptocurr...   -0.7627   \n",
       "11  2021-06-05  Hello friends, and welcome back to Week in Rev...    0.7500   \n",
       "12  2021-05-27  In spite of the environmental and regulatory i...   -0.5267   \n",
       "13  2021-05-13  When it comes to ransomware, you don't always ...    0.2500   \n",
       "14  2021-06-08  By Mary-Ann RussonBusiness reporter, BBC News\\...    0.3400   \n",
       "15  2021-05-26  The ban affects licensed and unlicensed miners...   -0.5574   \n",
       "16  2021-05-16  Hello friends, and welcome back to Week in Rev...    0.5707   \n",
       "17  2021-05-11  Elon Musk really, REALLY likes Dogecoin. \\r\\nA...    0.7434   \n",
       "18  2021-05-12  An Australian computer scientist who alleges h...    0.5994   \n",
       "19  2021-05-13  Bitcoin rebounded to about $50,000 in Asian tr...    0.1779   \n",
       "\n",
       "    positive  negative  neutral  \n",
       "0      0.071     0.000    0.929  \n",
       "1      0.058     0.000    0.942  \n",
       "2      0.134     0.050    0.816  \n",
       "3      0.000     0.000    1.000  \n",
       "4      0.075     0.000    0.925  \n",
       "5      0.217     0.000    0.783  \n",
       "6      0.071     0.000    0.929  \n",
       "7      0.162     0.000    0.838  \n",
       "8      0.066     0.087    0.847  \n",
       "9      0.000     0.000    1.000  \n",
       "10     0.000     0.180    0.820  \n",
       "11     0.154     0.000    0.846  \n",
       "12     0.000     0.096    0.904  \n",
       "13     0.071     0.071    0.859  \n",
       "14     0.070     0.000    0.930  \n",
       "15     0.000     0.107    0.893  \n",
       "16     0.159     0.067    0.773  \n",
       "17     0.179     0.000    0.821  \n",
       "18     0.213     0.052    0.736  \n",
       "19     0.069     0.051    0.880  "
      ]
     },
     "execution_count": 27,
     "metadata": {},
     "output_type": "execute_result"
    }
   ],
   "source": [
    "bitcoin_df"
   ]
  },
  {
   "cell_type": "code",
   "execution_count": 29,
   "metadata": {},
   "outputs": [
    {
     "data": {
      "text/plain": [
       "[['status'], ['totalResults'], ['articles']]"
      ]
     },
     "execution_count": 29,
     "metadata": {},
     "output_type": "execute_result"
    }
   ],
   "source": [
    "bitcoin_tokenized"
   ]
  },
  {
   "cell_type": "code",
   "execution_count": 28,
   "metadata": {},
   "outputs": [
    {
     "ename": "ValueError",
     "evalue": "Length of values (3) does not match length of index (20)",
     "output_type": "error",
     "traceback": [
      "\u001b[0;31m---------------------------------------------------------------------------\u001b[0m",
      "\u001b[0;31mValueError\u001b[0m                                Traceback (most recent call last)",
      "\u001b[0;32m<ipython-input-28-8f16eb2c1b3c>\u001b[0m in \u001b[0;36m<module>\u001b[0;34m\u001b[0m\n\u001b[0;32m----> 1\u001b[0;31m \u001b[0mbitcoin_df\u001b[0m\u001b[0;34m[\u001b[0m\u001b[0;34m'tokens'\u001b[0m\u001b[0;34m]\u001b[0m \u001b[0;34m=\u001b[0m \u001b[0mbitcoin_tokenized\u001b[0m\u001b[0;34m\u001b[0m\u001b[0;34m\u001b[0m\u001b[0m\n\u001b[0m\u001b[1;32m      2\u001b[0m \u001b[0methereum_df\u001b[0m\u001b[0;34m[\u001b[0m\u001b[0;34m'tokens'\u001b[0m\u001b[0;34m]\u001b[0m \u001b[0;34m=\u001b[0m \u001b[0methereum_tokenized\u001b[0m\u001b[0;34m\u001b[0m\u001b[0;34m\u001b[0m\u001b[0m\n",
      "\u001b[0;32m~/opt/anaconda3/lib/python3.8/site-packages/pandas/core/frame.py\u001b[0m in \u001b[0;36m__setitem__\u001b[0;34m(self, key, value)\u001b[0m\n\u001b[1;32m   3161\u001b[0m         \u001b[0;32melse\u001b[0m\u001b[0;34m:\u001b[0m\u001b[0;34m\u001b[0m\u001b[0;34m\u001b[0m\u001b[0m\n\u001b[1;32m   3162\u001b[0m             \u001b[0;31m# set column\u001b[0m\u001b[0;34m\u001b[0m\u001b[0;34m\u001b[0m\u001b[0;34m\u001b[0m\u001b[0m\n\u001b[0;32m-> 3163\u001b[0;31m             \u001b[0mself\u001b[0m\u001b[0;34m.\u001b[0m\u001b[0m_set_item\u001b[0m\u001b[0;34m(\u001b[0m\u001b[0mkey\u001b[0m\u001b[0;34m,\u001b[0m \u001b[0mvalue\u001b[0m\u001b[0;34m)\u001b[0m\u001b[0;34m\u001b[0m\u001b[0;34m\u001b[0m\u001b[0m\n\u001b[0m\u001b[1;32m   3164\u001b[0m \u001b[0;34m\u001b[0m\u001b[0m\n\u001b[1;32m   3165\u001b[0m     \u001b[0;32mdef\u001b[0m \u001b[0m_setitem_slice\u001b[0m\u001b[0;34m(\u001b[0m\u001b[0mself\u001b[0m\u001b[0;34m,\u001b[0m \u001b[0mkey\u001b[0m\u001b[0;34m:\u001b[0m \u001b[0mslice\u001b[0m\u001b[0;34m,\u001b[0m \u001b[0mvalue\u001b[0m\u001b[0;34m)\u001b[0m\u001b[0;34m:\u001b[0m\u001b[0;34m\u001b[0m\u001b[0;34m\u001b[0m\u001b[0m\n",
      "\u001b[0;32m~/opt/anaconda3/lib/python3.8/site-packages/pandas/core/frame.py\u001b[0m in \u001b[0;36m_set_item\u001b[0;34m(self, key, value)\u001b[0m\n\u001b[1;32m   3240\u001b[0m         \"\"\"\n\u001b[1;32m   3241\u001b[0m         \u001b[0mself\u001b[0m\u001b[0;34m.\u001b[0m\u001b[0m_ensure_valid_index\u001b[0m\u001b[0;34m(\u001b[0m\u001b[0mvalue\u001b[0m\u001b[0;34m)\u001b[0m\u001b[0;34m\u001b[0m\u001b[0;34m\u001b[0m\u001b[0m\n\u001b[0;32m-> 3242\u001b[0;31m         \u001b[0mvalue\u001b[0m \u001b[0;34m=\u001b[0m \u001b[0mself\u001b[0m\u001b[0;34m.\u001b[0m\u001b[0m_sanitize_column\u001b[0m\u001b[0;34m(\u001b[0m\u001b[0mkey\u001b[0m\u001b[0;34m,\u001b[0m \u001b[0mvalue\u001b[0m\u001b[0;34m)\u001b[0m\u001b[0;34m\u001b[0m\u001b[0;34m\u001b[0m\u001b[0m\n\u001b[0m\u001b[1;32m   3243\u001b[0m         \u001b[0mNDFrame\u001b[0m\u001b[0;34m.\u001b[0m\u001b[0m_set_item\u001b[0m\u001b[0;34m(\u001b[0m\u001b[0mself\u001b[0m\u001b[0;34m,\u001b[0m \u001b[0mkey\u001b[0m\u001b[0;34m,\u001b[0m \u001b[0mvalue\u001b[0m\u001b[0;34m)\u001b[0m\u001b[0;34m\u001b[0m\u001b[0;34m\u001b[0m\u001b[0m\n\u001b[1;32m   3244\u001b[0m \u001b[0;34m\u001b[0m\u001b[0m\n",
      "\u001b[0;32m~/opt/anaconda3/lib/python3.8/site-packages/pandas/core/frame.py\u001b[0m in \u001b[0;36m_sanitize_column\u001b[0;34m(self, key, value, broadcast)\u001b[0m\n\u001b[1;32m   3897\u001b[0m \u001b[0;34m\u001b[0m\u001b[0m\n\u001b[1;32m   3898\u001b[0m             \u001b[0;31m# turn me into an ndarray\u001b[0m\u001b[0;34m\u001b[0m\u001b[0;34m\u001b[0m\u001b[0;34m\u001b[0m\u001b[0m\n\u001b[0;32m-> 3899\u001b[0;31m             \u001b[0mvalue\u001b[0m \u001b[0;34m=\u001b[0m \u001b[0msanitize_index\u001b[0m\u001b[0;34m(\u001b[0m\u001b[0mvalue\u001b[0m\u001b[0;34m,\u001b[0m \u001b[0mself\u001b[0m\u001b[0;34m.\u001b[0m\u001b[0mindex\u001b[0m\u001b[0;34m)\u001b[0m\u001b[0;34m\u001b[0m\u001b[0;34m\u001b[0m\u001b[0m\n\u001b[0m\u001b[1;32m   3900\u001b[0m             \u001b[0;32mif\u001b[0m \u001b[0;32mnot\u001b[0m \u001b[0misinstance\u001b[0m\u001b[0;34m(\u001b[0m\u001b[0mvalue\u001b[0m\u001b[0;34m,\u001b[0m \u001b[0;34m(\u001b[0m\u001b[0mnp\u001b[0m\u001b[0;34m.\u001b[0m\u001b[0mndarray\u001b[0m\u001b[0;34m,\u001b[0m \u001b[0mIndex\u001b[0m\u001b[0;34m)\u001b[0m\u001b[0;34m)\u001b[0m\u001b[0;34m:\u001b[0m\u001b[0;34m\u001b[0m\u001b[0;34m\u001b[0m\u001b[0m\n\u001b[1;32m   3901\u001b[0m                 \u001b[0;32mif\u001b[0m \u001b[0misinstance\u001b[0m\u001b[0;34m(\u001b[0m\u001b[0mvalue\u001b[0m\u001b[0;34m,\u001b[0m \u001b[0mlist\u001b[0m\u001b[0;34m)\u001b[0m \u001b[0;32mand\u001b[0m \u001b[0mlen\u001b[0m\u001b[0;34m(\u001b[0m\u001b[0mvalue\u001b[0m\u001b[0;34m)\u001b[0m \u001b[0;34m>\u001b[0m \u001b[0;36m0\u001b[0m\u001b[0;34m:\u001b[0m\u001b[0;34m\u001b[0m\u001b[0;34m\u001b[0m\u001b[0m\n",
      "\u001b[0;32m~/opt/anaconda3/lib/python3.8/site-packages/pandas/core/internals/construction.py\u001b[0m in \u001b[0;36msanitize_index\u001b[0;34m(data, index)\u001b[0m\n\u001b[1;32m    749\u001b[0m     \"\"\"\n\u001b[1;32m    750\u001b[0m     \u001b[0;32mif\u001b[0m \u001b[0mlen\u001b[0m\u001b[0;34m(\u001b[0m\u001b[0mdata\u001b[0m\u001b[0;34m)\u001b[0m \u001b[0;34m!=\u001b[0m \u001b[0mlen\u001b[0m\u001b[0;34m(\u001b[0m\u001b[0mindex\u001b[0m\u001b[0;34m)\u001b[0m\u001b[0;34m:\u001b[0m\u001b[0;34m\u001b[0m\u001b[0;34m\u001b[0m\u001b[0m\n\u001b[0;32m--> 751\u001b[0;31m         raise ValueError(\n\u001b[0m\u001b[1;32m    752\u001b[0m             \u001b[0;34m\"Length of values \"\u001b[0m\u001b[0;34m\u001b[0m\u001b[0;34m\u001b[0m\u001b[0m\n\u001b[1;32m    753\u001b[0m             \u001b[0;34mf\"({len(data)}) \"\u001b[0m\u001b[0;34m\u001b[0m\u001b[0;34m\u001b[0m\u001b[0m\n",
      "\u001b[0;31mValueError\u001b[0m: Length of values (3) does not match length of index (20)"
     ]
    }
   ],
   "source": [
    "bitcoin_df['tokens'] = bitcoin_tokenized\n",
    "ethereum_df['tokens'] = ethereum_tokenized"
   ]
  },
  {
   "cell_type": "markdown",
   "metadata": {},
   "source": [
    "---"
   ]
  },
  {
   "cell_type": "markdown",
   "metadata": {},
   "source": [
    "### NGrams and Frequency Analysis\n",
    "\n",
    "In this section you will look at the ngrams and word frequency for each coin. \n",
    "\n",
    "1. Use NLTK to produce the n-grams for N = 2. \n",
    "2. List the top 10 words for each coin. "
   ]
  },
  {
   "cell_type": "code",
   "execution_count": null,
   "metadata": {},
   "outputs": [],
   "source": [
    "from collections import Counter\n",
    "from nltk import ngrams"
   ]
  },
  {
   "cell_type": "code",
   "execution_count": null,
   "metadata": {},
   "outputs": [],
   "source": []
  },
  {
   "cell_type": "code",
   "execution_count": null,
   "metadata": {},
   "outputs": [],
   "source": [
    "# Generate the Bitcoin N-grams where N=2\n"
   ]
  },
  {
   "cell_type": "code",
   "execution_count": null,
   "metadata": {},
   "outputs": [],
   "source": [
    "# Generate the Ethereum N-grams where N=2\n",
    "# YOUR CODE HERE!"
   ]
  },
  {
   "cell_type": "code",
   "execution_count": null,
   "metadata": {},
   "outputs": [],
   "source": [
    "# Function token_count generates the top 10 words for a given coin\n",
    "def token_count(tokens, N=3):\n",
    "    \"\"\"Returns the top N tokens from the frequency count\"\"\"\n",
    "    return Counter(tokens).most_common(N)"
   ]
  },
  {
   "cell_type": "code",
   "execution_count": null,
   "metadata": {},
   "outputs": [],
   "source": [
    "# Use token_count to get the top 10 words for Bitcoin\n",
    "# YOUR CODE HERE!"
   ]
  },
  {
   "cell_type": "code",
   "execution_count": null,
   "metadata": {},
   "outputs": [],
   "source": [
    "# Use token_count to get the top 10 words for Ethereum\n",
    "# YOUR CODE HERE!"
   ]
  },
  {
   "cell_type": "markdown",
   "metadata": {},
   "source": [
    "---"
   ]
  },
  {
   "cell_type": "markdown",
   "metadata": {},
   "source": [
    "### Word Clouds\n",
    "\n",
    "In this section, you will generate word clouds for each coin to summarize the news for each coin"
   ]
  },
  {
   "cell_type": "code",
   "execution_count": null,
   "metadata": {},
   "outputs": [],
   "source": [
    "from wordcloud import WordCloud\n",
    "import matplotlib.pyplot as plt\n",
    "plt.style.use('seaborn-whitegrid')\n",
    "import matplotlib as mpl\n",
    "mpl.rcParams['figure.figsize'] = [20.0, 10.0]"
   ]
  },
  {
   "cell_type": "code",
   "execution_count": null,
   "metadata": {},
   "outputs": [],
   "source": [
    "# Generate the Bitcoin word cloud\n",
    "# YOUR CODE HERE!"
   ]
  },
  {
   "cell_type": "code",
   "execution_count": null,
   "metadata": {},
   "outputs": [],
   "source": [
    "# Generate the Ethereum word cloud\n",
    "# YOUR CODE HERE!"
   ]
  },
  {
   "cell_type": "markdown",
   "metadata": {},
   "source": [
    "---\n",
    "## 3. Named Entity Recognition\n",
    "\n",
    "In this section, you will build a named entity recognition model for both Bitcoin and Ethereum, then visualize the tags using SpaCy."
   ]
  },
  {
   "cell_type": "code",
   "execution_count": null,
   "metadata": {},
   "outputs": [],
   "source": [
    "import spacy\n",
    "from spacy import displacy"
   ]
  },
  {
   "cell_type": "code",
   "execution_count": null,
   "metadata": {},
   "outputs": [],
   "source": [
    "# Download the language model for SpaCy\n",
    "# !python -m spacy download en_core_web_sm"
   ]
  },
  {
   "cell_type": "code",
   "execution_count": null,
   "metadata": {},
   "outputs": [],
   "source": [
    "# Load the spaCy model\n",
    "nlp = spacy.load('en_core_web_sm')"
   ]
  },
  {
   "cell_type": "markdown",
   "metadata": {},
   "source": [
    "---\n",
    "### Bitcoin NER"
   ]
  },
  {
   "cell_type": "code",
   "execution_count": null,
   "metadata": {},
   "outputs": [],
   "source": [
    "# Concatenate all of the Bitcoin text together\n",
    "# YOUR CODE HERE!"
   ]
  },
  {
   "cell_type": "code",
   "execution_count": null,
   "metadata": {},
   "outputs": [],
   "source": [
    "# Run the NER processor on all of the text\n",
    "# YOUR CODE HERE!\n",
    "\n",
    "# Add a title to the document\n",
    "# YOUR CODE HERE!"
   ]
  },
  {
   "cell_type": "code",
   "execution_count": null,
   "metadata": {},
   "outputs": [],
   "source": [
    "# Render the visualization\n",
    "# YOUR CODE HERE!"
   ]
  },
  {
   "cell_type": "code",
   "execution_count": null,
   "metadata": {},
   "outputs": [],
   "source": [
    "# List all Entities\n",
    "# YOUR CODE HERE!"
   ]
  },
  {
   "cell_type": "markdown",
   "metadata": {},
   "source": [
    "---"
   ]
  },
  {
   "cell_type": "markdown",
   "metadata": {},
   "source": [
    "### Ethereum NER"
   ]
  },
  {
   "cell_type": "code",
   "execution_count": null,
   "metadata": {},
   "outputs": [],
   "source": [
    "# Concatenate all of the Ethereum text together\n",
    "# YOUR CODE HERE!"
   ]
  },
  {
   "cell_type": "code",
   "execution_count": null,
   "metadata": {},
   "outputs": [],
   "source": [
    "# Run the NER processor on all of the text\n",
    "# YOUR CODE HERE!\n",
    "\n",
    "# Add a title to the document\n",
    "# YOUR CODE HERE!"
   ]
  },
  {
   "cell_type": "code",
   "execution_count": null,
   "metadata": {},
   "outputs": [],
   "source": [
    "# Render the visualization\n",
    "# YOUR CODE HERE!"
   ]
  },
  {
   "cell_type": "code",
   "execution_count": null,
   "metadata": {},
   "outputs": [],
   "source": [
    "# List all Entities\n",
    "# YOUR CODE HERE!"
   ]
  },
  {
   "cell_type": "markdown",
   "metadata": {},
   "source": [
    "---"
   ]
  }
 ],
 "metadata": {
  "file_extension": ".py",
  "kernelspec": {
   "display_name": "Python 3",
   "language": "python",
   "name": "python3"
  },
  "language_info": {
   "codemirror_mode": {
    "name": "ipython",
    "version": 3
   },
   "file_extension": ".py",
   "mimetype": "text/x-python",
   "name": "python",
   "nbconvert_exporter": "python",
   "pygments_lexer": "ipython3",
   "version": "3.8.5"
  },
  "mimetype": "text/x-python",
  "name": "python",
  "npconvert_exporter": "python",
  "pygments_lexer": "ipython3",
  "version": 3
 },
 "nbformat": 4,
 "nbformat_minor": 4
}
