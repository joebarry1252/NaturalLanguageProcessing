{
 "cells": [
  {
   "cell_type": "markdown",
   "metadata": {},
   "source": [
    "# Unit 12 - Tales from the Crypto\n",
    "\n",
    "---\n"
   ]
  },
  {
   "cell_type": "markdown",
   "metadata": {},
   "source": [
    "## 1. Sentiment Analysis\n",
    "\n",
    "Use the [newsapi](https://newsapi.org/) to pull the latest news articles for Bitcoin and Ethereum and create a DataFrame of sentiment scores for each coin.\n",
    "\n",
    "Use descriptive statistics to answer the following questions:\n",
    "1. Which coin had the highest mean positive score?\n",
    "2. Which coin had the highest negative score?\n",
    "3. Which coin had the highest positive score?"
   ]
  },
  {
   "cell_type": "code",
   "execution_count": 1,
   "metadata": {},
   "outputs": [
    {
     "name": "stderr",
     "output_type": "stream",
     "text": [
      "[nltk_data] Downloading package vader_lexicon to\n",
      "[nltk_data]     /Users/josephbarry/nltk_data...\n",
      "[nltk_data]   Package vader_lexicon is already up-to-date!\n"
     ]
    }
   ],
   "source": [
    "# Initial imports\n",
    "import os\n",
    "import pandas as pd\n",
    "from pathlib import Path\n",
    "from dotenv import load_dotenv\n",
    "import nltk as nltk\n",
    "nltk.download('vader_lexicon')\n",
    "from nltk.sentiment.vader import SentimentIntensityAnalyzer\n",
    "analyzer = SentimentIntensityAnalyzer()\n",
    "from newsapi import NewsApiClient\n",
    "import pprint as pprint\n",
    "\n",
    "%matplotlib inline"
   ]
  },
  {
   "cell_type": "code",
   "execution_count": 2,
   "metadata": {},
   "outputs": [
    {
     "data": {
      "text/plain": [
       "True"
      ]
     },
     "execution_count": 2,
     "metadata": {},
     "output_type": "execute_result"
    }
   ],
   "source": [
    "load_dotenv()"
   ]
  },
  {
   "cell_type": "code",
   "execution_count": 3,
   "metadata": {},
   "outputs": [],
   "source": [
    "# Read your api key environment variable\n",
    "api_key = os.getenv(\"news_api\")"
   ]
  },
  {
   "cell_type": "code",
   "execution_count": 4,
   "metadata": {},
   "outputs": [],
   "source": [
    "# Create a newsapi client\n",
    "newsapi = NewsApiClient(api_key=api_key)"
   ]
  },
  {
   "cell_type": "code",
   "execution_count": 5,
   "metadata": {},
   "outputs": [],
   "source": [
    "# Fetch the Bitcoin news articles\n",
    "bitcoin_news = newsapi.get_everything(\n",
    "    q=\"bitcoin\",\n",
    "    language=\"en\"\n",
    ")\n",
    "#bitcoin_news"
   ]
  },
  {
   "cell_type": "code",
   "execution_count": 6,
   "metadata": {},
   "outputs": [],
   "source": [
    "# Fetch the Ethereum news articles\n",
    "ethereum_news = newsapi.get_everything(\n",
    "    q=\"ethereum\",\n",
    "    language=\"en\"\n",
    ")"
   ]
  },
  {
   "cell_type": "code",
   "execution_count": 7,
   "metadata": {},
   "outputs": [
    {
     "name": "stdout",
     "output_type": "stream",
     "text": [
      "Total articles about Bitcoin: 12685\n"
     ]
    }
   ],
   "source": [
    "print(f\"Total articles about Bitcoin: {bitcoin_news['totalResults']}\")"
   ]
  },
  {
   "cell_type": "code",
   "execution_count": 8,
   "metadata": {},
   "outputs": [
    {
     "name": "stdout",
     "output_type": "stream",
     "text": [
      "Total articles about Ethereum: 4190\n"
     ]
    }
   ],
   "source": [
    "print(f\"Total articles about Ethereum: {ethereum_news['totalResults']}\")"
   ]
  },
  {
   "cell_type": "code",
   "execution_count": 9,
   "metadata": {},
   "outputs": [
    {
     "data": {
      "text/plain": [
       "{'source': {'id': 'engadget', 'name': 'Engadget'},\n",
       " 'author': 'https://www.engadget.com/about/editors/richard-lawler',\n",
       " 'title': \"Tesla 'suspends' Bitcoin car purchases citing environmental impact\",\n",
       " 'description': \"You can't buy a Tesla with Bitcoin anymore..\",\n",
       " 'url': 'https://www.engadget.com/elon-musk-bitcoin-221708146.html',\n",
       " 'urlToImage': 'https://s.yimg.com/os/creatr-uploaded-images/2021-05/a0f90c30-b36f-11eb-aff6-04fb28cf2f4b',\n",
       " 'publishedAt': '2021-05-12T22:17:08Z',\n",
       " 'content': 'Just weeks after Tesla started accepting Bitcoin as currency for cars, Elon Musk revealed in a tweet that it will \"suspend\" the effort. According to the release (Tesla does not appear to have a funct… [+768 chars]'}"
      ]
     },
     "execution_count": 9,
     "metadata": {},
     "output_type": "execute_result"
    }
   ],
   "source": [
    "bitcoin_news[\"articles\"][0]"
   ]
  },
  {
   "cell_type": "code",
   "execution_count": 10,
   "metadata": {},
   "outputs": [],
   "source": [
    "bitcoin_articles = bitcoin_news[\"articles\"]\n",
    "ethereum_articles = ethereum_news[\"articles\"]"
   ]
  },
  {
   "cell_type": "code",
   "execution_count": 11,
   "metadata": {},
   "outputs": [
    {
     "data": {
      "text/html": [
       "<div>\n",
       "<style scoped>\n",
       "    .dataframe tbody tr th:only-of-type {\n",
       "        vertical-align: middle;\n",
       "    }\n",
       "\n",
       "    .dataframe tbody tr th {\n",
       "        vertical-align: top;\n",
       "    }\n",
       "\n",
       "    .dataframe thead th {\n",
       "        text-align: right;\n",
       "    }\n",
       "</style>\n",
       "<table border=\"1\" class=\"dataframe\">\n",
       "  <thead>\n",
       "    <tr style=\"text-align: right;\">\n",
       "      <th></th>\n",
       "      <th>date</th>\n",
       "      <th>text</th>\n",
       "      <th>compound</th>\n",
       "      <th>positive</th>\n",
       "      <th>negative</th>\n",
       "      <th>neutral</th>\n",
       "    </tr>\n",
       "  </thead>\n",
       "  <tbody>\n",
       "    <tr>\n",
       "      <th>0</th>\n",
       "      <td>2021-05-12</td>\n",
       "      <td>Just weeks after Tesla started accepting Bitco...</td>\n",
       "      <td>0.3818</td>\n",
       "      <td>0.071</td>\n",
       "      <td>0.00</td>\n",
       "      <td>0.929</td>\n",
       "    </tr>\n",
       "    <tr>\n",
       "      <th>1</th>\n",
       "      <td>2021-06-09</td>\n",
       "      <td>El Salvador's President Nayib Bukele has made ...</td>\n",
       "      <td>0.8402</td>\n",
       "      <td>0.282</td>\n",
       "      <td>0.00</td>\n",
       "      <td>0.718</td>\n",
       "    </tr>\n",
       "    <tr>\n",
       "      <th>2</th>\n",
       "      <td>2021-05-12</td>\n",
       "      <td>Image: Tesla\\r\\n\\n \\n\\n Tesla has stopped acce...</td>\n",
       "      <td>0.4939</td>\n",
       "      <td>0.134</td>\n",
       "      <td>0.05</td>\n",
       "      <td>0.816</td>\n",
       "    </tr>\n",
       "    <tr>\n",
       "      <th>3</th>\n",
       "      <td>2021-06-09</td>\n",
       "      <td>El Salvador has become the first country in th...</td>\n",
       "      <td>0.1280</td>\n",
       "      <td>0.043</td>\n",
       "      <td>0.00</td>\n",
       "      <td>0.957</td>\n",
       "    </tr>\n",
       "    <tr>\n",
       "      <th>4</th>\n",
       "      <td>2021-05-19</td>\n",
       "      <td>Illustration by Alex Castro / The Verge\\r\\n\\n ...</td>\n",
       "      <td>0.0000</td>\n",
       "      <td>0.000</td>\n",
       "      <td>0.00</td>\n",
       "      <td>1.000</td>\n",
       "    </tr>\n",
       "  </tbody>\n",
       "</table>\n",
       "</div>"
      ],
      "text/plain": [
       "         date                                               text  compound  \\\n",
       "0  2021-05-12  Just weeks after Tesla started accepting Bitco...    0.3818   \n",
       "1  2021-06-09  El Salvador's President Nayib Bukele has made ...    0.8402   \n",
       "2  2021-05-12  Image: Tesla\\r\\n\\n \\n\\n Tesla has stopped acce...    0.4939   \n",
       "3  2021-06-09  El Salvador has become the first country in th...    0.1280   \n",
       "4  2021-05-19  Illustration by Alex Castro / The Verge\\r\\n\\n ...    0.0000   \n",
       "\n",
       "   positive  negative  neutral  \n",
       "0     0.071      0.00    0.929  \n",
       "1     0.282      0.00    0.718  \n",
       "2     0.134      0.05    0.816  \n",
       "3     0.043      0.00    0.957  \n",
       "4     0.000      0.00    1.000  "
      ]
     },
     "execution_count": 11,
     "metadata": {},
     "output_type": "execute_result"
    }
   ],
   "source": [
    "# Create the Bitcoin sentiment scores DataFrame\n",
    "\n",
    "bitcoin_sentiments = []\n",
    "\n",
    "for article in bitcoin_news[\"articles\"]:\n",
    "    try:\n",
    "        text = article['content']\n",
    "        date = article['publishedAt'][:10]\n",
    "        sentiment = analyzer.polarity_scores(text)\n",
    "        compound = sentiment['compound']\n",
    "        pos = sentiment['pos']\n",
    "        neu = sentiment['neu']\n",
    "        neg = sentiment['neg']\n",
    "        \n",
    "        bitcoin_sentiments.append({\n",
    "            \"text\": text,\n",
    "            \"date\": date,\n",
    "            \"compound\": compound,\n",
    "            \"positive\": pos,\n",
    "            \"negative\": neg,\n",
    "            \"neutral\": neu\n",
    "        })\n",
    "    \n",
    "    except AttributeError:\n",
    "        pass\n",
    "    \n",
    "bitcoin_df = pd.DataFrame(bitcoin_sentiments)\n",
    "\n",
    "cols = [\"date\", \"text\", \"compound\", \"positive\", \"negative\", \"neutral\"]\n",
    "bitcoin_df = bitcoin_df[cols]\n",
    "\n",
    "bitcoin_df.head()\n",
    "#print(bitcoin_df[\"text\"])"
   ]
  },
  {
   "cell_type": "code",
   "execution_count": 12,
   "metadata": {},
   "outputs": [
    {
     "data": {
      "text/html": [
       "<div>\n",
       "<style scoped>\n",
       "    .dataframe tbody tr th:only-of-type {\n",
       "        vertical-align: middle;\n",
       "    }\n",
       "\n",
       "    .dataframe tbody tr th {\n",
       "        vertical-align: top;\n",
       "    }\n",
       "\n",
       "    .dataframe thead th {\n",
       "        text-align: right;\n",
       "    }\n",
       "</style>\n",
       "<table border=\"1\" class=\"dataframe\">\n",
       "  <thead>\n",
       "    <tr style=\"text-align: right;\">\n",
       "      <th></th>\n",
       "      <th>date</th>\n",
       "      <th>text</th>\n",
       "      <th>compound</th>\n",
       "      <th>positive</th>\n",
       "      <th>negative</th>\n",
       "      <th>neutral</th>\n",
       "    </tr>\n",
       "  </thead>\n",
       "  <tbody>\n",
       "    <tr>\n",
       "      <th>0</th>\n",
       "      <td>2021-05-12</td>\n",
       "      <td>Vitalik Buterin, the creator of Ethereum, on W...</td>\n",
       "      <td>0.2263</td>\n",
       "      <td>0.060</td>\n",
       "      <td>0.000</td>\n",
       "      <td>0.940</td>\n",
       "    </tr>\n",
       "    <tr>\n",
       "      <th>1</th>\n",
       "      <td>2021-05-15</td>\n",
       "      <td>Solana isn’t known yet outside of the crypto c...</td>\n",
       "      <td>0.5499</td>\n",
       "      <td>0.106</td>\n",
       "      <td>0.000</td>\n",
       "      <td>0.894</td>\n",
       "    </tr>\n",
       "    <tr>\n",
       "      <th>2</th>\n",
       "      <td>2021-05-19</td>\n",
       "      <td>Bitcoin, Ethereum and a host of Altcoins suffe...</td>\n",
       "      <td>-0.2023</td>\n",
       "      <td>0.066</td>\n",
       "      <td>0.087</td>\n",
       "      <td>0.847</td>\n",
       "    </tr>\n",
       "    <tr>\n",
       "      <th>3</th>\n",
       "      <td>2021-05-20</td>\n",
       "      <td></td>\n",
       "      <td>0.0000</td>\n",
       "      <td>0.000</td>\n",
       "      <td>0.000</td>\n",
       "      <td>0.000</td>\n",
       "    </tr>\n",
       "    <tr>\n",
       "      <th>4</th>\n",
       "      <td>2021-05-31</td>\n",
       "      <td>A representation of virtual currency Ethereum ...</td>\n",
       "      <td>0.0000</td>\n",
       "      <td>0.000</td>\n",
       "      <td>0.000</td>\n",
       "      <td>1.000</td>\n",
       "    </tr>\n",
       "  </tbody>\n",
       "</table>\n",
       "</div>"
      ],
      "text/plain": [
       "         date                                               text  compound  \\\n",
       "0  2021-05-12  Vitalik Buterin, the creator of Ethereum, on W...    0.2263   \n",
       "1  2021-05-15  Solana isn’t known yet outside of the crypto c...    0.5499   \n",
       "2  2021-05-19  Bitcoin, Ethereum and a host of Altcoins suffe...   -0.2023   \n",
       "3  2021-05-20                                                       0.0000   \n",
       "4  2021-05-31  A representation of virtual currency Ethereum ...    0.0000   \n",
       "\n",
       "   positive  negative  neutral  \n",
       "0     0.060     0.000    0.940  \n",
       "1     0.106     0.000    0.894  \n",
       "2     0.066     0.087    0.847  \n",
       "3     0.000     0.000    0.000  \n",
       "4     0.000     0.000    1.000  "
      ]
     },
     "execution_count": 12,
     "metadata": {},
     "output_type": "execute_result"
    }
   ],
   "source": [
    "# Create the Ethereum sentiment scores DataFrame\n",
    "ethereum_sentiments = []\n",
    "\n",
    "for article in ethereum_news[\"articles\"]:\n",
    "    try:\n",
    "        text = article['content']\n",
    "        date = article['publishedAt'][:10]\n",
    "        sentiment = analyzer.polarity_scores(text)\n",
    "        compound = sentiment['compound']\n",
    "        pos = sentiment['pos']\n",
    "        neu = sentiment['neu']\n",
    "        neg = sentiment['neg']\n",
    "        \n",
    "        ethereum_sentiments.append({\n",
    "            \"text\": text,\n",
    "            \"date\": date,\n",
    "            \"compound\": compound,\n",
    "            \"positive\": pos,\n",
    "            \"negative\": neg,\n",
    "            \"neutral\": neu\n",
    "        })\n",
    "    \n",
    "    except AttributeError:\n",
    "        pass\n",
    "    \n",
    "ethereum_df = pd.DataFrame(ethereum_sentiments)\n",
    "\n",
    "cols = [\"date\", \"text\", \"compound\", \"positive\", \"negative\", \"neutral\"]\n",
    "ethereum_df = ethereum_df[cols]\n",
    "\n",
    "ethereum_df.head()"
   ]
  },
  {
   "cell_type": "code",
   "execution_count": 13,
   "metadata": {},
   "outputs": [
    {
     "data": {
      "text/html": [
       "<div>\n",
       "<style scoped>\n",
       "    .dataframe tbody tr th:only-of-type {\n",
       "        vertical-align: middle;\n",
       "    }\n",
       "\n",
       "    .dataframe tbody tr th {\n",
       "        vertical-align: top;\n",
       "    }\n",
       "\n",
       "    .dataframe thead th {\n",
       "        text-align: right;\n",
       "    }\n",
       "</style>\n",
       "<table border=\"1\" class=\"dataframe\">\n",
       "  <thead>\n",
       "    <tr style=\"text-align: right;\">\n",
       "      <th></th>\n",
       "      <th>compound</th>\n",
       "      <th>positive</th>\n",
       "      <th>negative</th>\n",
       "      <th>neutral</th>\n",
       "    </tr>\n",
       "  </thead>\n",
       "  <tbody>\n",
       "    <tr>\n",
       "      <th>count</th>\n",
       "      <td>20.000000</td>\n",
       "      <td>20.000000</td>\n",
       "      <td>20.000000</td>\n",
       "      <td>20.000000</td>\n",
       "    </tr>\n",
       "    <tr>\n",
       "      <th>mean</th>\n",
       "      <td>0.257850</td>\n",
       "      <td>0.090700</td>\n",
       "      <td>0.032900</td>\n",
       "      <td>0.876400</td>\n",
       "    </tr>\n",
       "    <tr>\n",
       "      <th>std</th>\n",
       "      <td>0.476245</td>\n",
       "      <td>0.080385</td>\n",
       "      <td>0.051817</td>\n",
       "      <td>0.076389</td>\n",
       "    </tr>\n",
       "    <tr>\n",
       "      <th>min</th>\n",
       "      <td>-0.762700</td>\n",
       "      <td>0.000000</td>\n",
       "      <td>0.000000</td>\n",
       "      <td>0.718000</td>\n",
       "    </tr>\n",
       "    <tr>\n",
       "      <th>25%</th>\n",
       "      <td>0.000000</td>\n",
       "      <td>0.032250</td>\n",
       "      <td>0.000000</td>\n",
       "      <td>0.820750</td>\n",
       "    </tr>\n",
       "    <tr>\n",
       "      <th>50%</th>\n",
       "      <td>0.360900</td>\n",
       "      <td>0.071000</td>\n",
       "      <td>0.000000</td>\n",
       "      <td>0.876000</td>\n",
       "    </tr>\n",
       "    <tr>\n",
       "      <th>75%</th>\n",
       "      <td>0.611075</td>\n",
       "      <td>0.155250</td>\n",
       "      <td>0.068000</td>\n",
       "      <td>0.929250</td>\n",
       "    </tr>\n",
       "    <tr>\n",
       "      <th>max</th>\n",
       "      <td>0.845500</td>\n",
       "      <td>0.282000</td>\n",
       "      <td>0.180000</td>\n",
       "      <td>1.000000</td>\n",
       "    </tr>\n",
       "  </tbody>\n",
       "</table>\n",
       "</div>"
      ],
      "text/plain": [
       "        compound   positive   negative    neutral\n",
       "count  20.000000  20.000000  20.000000  20.000000\n",
       "mean    0.257850   0.090700   0.032900   0.876400\n",
       "std     0.476245   0.080385   0.051817   0.076389\n",
       "min    -0.762700   0.000000   0.000000   0.718000\n",
       "25%     0.000000   0.032250   0.000000   0.820750\n",
       "50%     0.360900   0.071000   0.000000   0.876000\n",
       "75%     0.611075   0.155250   0.068000   0.929250\n",
       "max     0.845500   0.282000   0.180000   1.000000"
      ]
     },
     "execution_count": 13,
     "metadata": {},
     "output_type": "execute_result"
    }
   ],
   "source": [
    "# Describe the Bitcoin Sentiment\n",
    "bitcoin_df.describe()"
   ]
  },
  {
   "cell_type": "code",
   "execution_count": 14,
   "metadata": {},
   "outputs": [
    {
     "data": {
      "text/html": [
       "<div>\n",
       "<style scoped>\n",
       "    .dataframe tbody tr th:only-of-type {\n",
       "        vertical-align: middle;\n",
       "    }\n",
       "\n",
       "    .dataframe tbody tr th {\n",
       "        vertical-align: top;\n",
       "    }\n",
       "\n",
       "    .dataframe thead th {\n",
       "        text-align: right;\n",
       "    }\n",
       "</style>\n",
       "<table border=\"1\" class=\"dataframe\">\n",
       "  <thead>\n",
       "    <tr style=\"text-align: right;\">\n",
       "      <th></th>\n",
       "      <th>compound</th>\n",
       "      <th>positive</th>\n",
       "      <th>negative</th>\n",
       "      <th>neutral</th>\n",
       "    </tr>\n",
       "  </thead>\n",
       "  <tbody>\n",
       "    <tr>\n",
       "      <th>count</th>\n",
       "      <td>20.000000</td>\n",
       "      <td>20.000000</td>\n",
       "      <td>20.000000</td>\n",
       "      <td>20.000000</td>\n",
       "    </tr>\n",
       "    <tr>\n",
       "      <th>mean</th>\n",
       "      <td>0.013835</td>\n",
       "      <td>0.049350</td>\n",
       "      <td>0.044600</td>\n",
       "      <td>0.856050</td>\n",
       "    </tr>\n",
       "    <tr>\n",
       "      <th>std</th>\n",
       "      <td>0.411828</td>\n",
       "      <td>0.055376</td>\n",
       "      <td>0.079076</td>\n",
       "      <td>0.217708</td>\n",
       "    </tr>\n",
       "    <tr>\n",
       "      <th>min</th>\n",
       "      <td>-0.868900</td>\n",
       "      <td>0.000000</td>\n",
       "      <td>0.000000</td>\n",
       "      <td>0.000000</td>\n",
       "    </tr>\n",
       "    <tr>\n",
       "      <th>25%</th>\n",
       "      <td>-0.242025</td>\n",
       "      <td>0.000000</td>\n",
       "      <td>0.000000</td>\n",
       "      <td>0.838250</td>\n",
       "    </tr>\n",
       "    <tr>\n",
       "      <th>50%</th>\n",
       "      <td>0.000000</td>\n",
       "      <td>0.055500</td>\n",
       "      <td>0.000000</td>\n",
       "      <td>0.904500</td>\n",
       "    </tr>\n",
       "    <tr>\n",
       "      <th>75%</th>\n",
       "      <td>0.238025</td>\n",
       "      <td>0.068000</td>\n",
       "      <td>0.088750</td>\n",
       "      <td>0.961750</td>\n",
       "    </tr>\n",
       "    <tr>\n",
       "      <th>max</th>\n",
       "      <td>0.670500</td>\n",
       "      <td>0.188000</td>\n",
       "      <td>0.286000</td>\n",
       "      <td>1.000000</td>\n",
       "    </tr>\n",
       "  </tbody>\n",
       "</table>\n",
       "</div>"
      ],
      "text/plain": [
       "        compound   positive   negative    neutral\n",
       "count  20.000000  20.000000  20.000000  20.000000\n",
       "mean    0.013835   0.049350   0.044600   0.856050\n",
       "std     0.411828   0.055376   0.079076   0.217708\n",
       "min    -0.868900   0.000000   0.000000   0.000000\n",
       "25%    -0.242025   0.000000   0.000000   0.838250\n",
       "50%     0.000000   0.055500   0.000000   0.904500\n",
       "75%     0.238025   0.068000   0.088750   0.961750\n",
       "max     0.670500   0.188000   0.286000   1.000000"
      ]
     },
     "execution_count": 14,
     "metadata": {},
     "output_type": "execute_result"
    }
   ],
   "source": [
    "# Describe the Ethereum Sentiment\n",
    "ethereum_df.describe()"
   ]
  },
  {
   "cell_type": "code",
   "execution_count": 15,
   "metadata": {},
   "outputs": [],
   "source": [
    "bitcoin_rawtext = bitcoin_df['text']\n",
    "ethereum_rawtext = ethereum_df['text']"
   ]
  },
  {
   "cell_type": "markdown",
   "metadata": {},
   "source": [
    "### Questions:\n",
    "\n",
    "Q: Which coin had the highest mean positive score?\n",
    "\n",
    "A: \n",
    "\n",
    "Q: Which coin had the highest compound score?\n",
    "\n",
    "A: \n",
    "\n",
    "Q. Which coin had the highest positive score?\n",
    "\n",
    "A: "
   ]
  },
  {
   "cell_type": "markdown",
   "metadata": {},
   "source": [
    "---"
   ]
  },
  {
   "cell_type": "markdown",
   "metadata": {},
   "source": [
    "## 2. Natural Language Processing\n",
    "---\n",
    "###   Tokenizer\n",
    "\n",
    "In this section, you will use NLTK and Python to tokenize the text for each coin. Be sure to:\n",
    "1. Lowercase each word.\n",
    "2. Remove Punctuation.\n",
    "3. Remove Stopwords."
   ]
  },
  {
   "cell_type": "code",
   "execution_count": 16,
   "metadata": {},
   "outputs": [],
   "source": [
    "from nltk.tokenize import word_tokenize, sent_tokenize\n",
    "from nltk.corpus import stopwords, reuters\n",
    "from nltk.stem import WordNetLemmatizer, PorterStemmer\n",
    "from string import punctuation\n",
    "import re"
   ]
  },
  {
   "cell_type": "code",
   "execution_count": 17,
   "metadata": {},
   "outputs": [
    {
     "name": "stderr",
     "output_type": "stream",
     "text": [
      "[nltk_data] Downloading package reuters to\n",
      "[nltk_data]     /Users/josephbarry/nltk_data...\n",
      "[nltk_data]   Package reuters is already up-to-date!\n",
      "[nltk_data] Downloading package stopwords to\n",
      "[nltk_data]     /Users/josephbarry/nltk_data...\n",
      "[nltk_data]   Package stopwords is already up-to-date!\n",
      "[nltk_data] Downloading package punkt to\n",
      "[nltk_data]     /Users/josephbarry/nltk_data...\n",
      "[nltk_data]   Package punkt is already up-to-date!\n",
      "[nltk_data] Downloading package wordnet to\n",
      "[nltk_data]     /Users/josephbarry/nltk_data...\n",
      "[nltk_data]   Package wordnet is already up-to-date!\n"
     ]
    },
    {
     "data": {
      "text/plain": [
       "True"
      ]
     },
     "execution_count": 17,
     "metadata": {},
     "output_type": "execute_result"
    }
   ],
   "source": [
    "import nltk\n",
    "nltk.download('reuters')\n",
    "nltk.download('stopwords')\n",
    "nltk.download('punkt')\n",
    "nltk.download('wordnet')"
   ]
  },
  {
   "cell_type": "code",
   "execution_count": 18,
   "metadata": {},
   "outputs": [],
   "source": [
    "# Instantiate the lemmatizer\n",
    "lemmatizer = WordNetLemmatizer()\n"
   ]
  },
  {
   "cell_type": "code",
   "execution_count": 19,
   "metadata": {},
   "outputs": [],
   "source": [
    "bitcoin_tokenized = [sent_tokenize(i['content']) for i in bitcoin_news['articles']]\n",
    "#bitcoin_tokenized"
   ]
  },
  {
   "cell_type": "code",
   "execution_count": 20,
   "metadata": {},
   "outputs": [
    {
     "name": "stdout",
     "output_type": "stream",
     "text": [
      "Just weeks after Tesla started accepting Bitcoin as currency for cars, Elon Musk revealed in a tweet that it will \"suspend\" the effort. According to the release (Tesla does not appear to have a funct… [+768 chars]\n"
     ]
    }
   ],
   "source": [
    "for i in bitcoin_news['articles']:\n",
    "    print(i['content'])\n",
    "    break\n"
   ]
  },
  {
   "cell_type": "code",
   "execution_count": 21,
   "metadata": {},
   "outputs": [],
   "source": [
    "#bitcoin_news"
   ]
  },
  {
   "cell_type": "code",
   "execution_count": 22,
   "metadata": {},
   "outputs": [],
   "source": [
    "ethereum_tokenized = [sent_tokenize(i['content']) for i in ethereum_news['articles']]"
   ]
  },
  {
   "cell_type": "code",
   "execution_count": 23,
   "metadata": {},
   "outputs": [
    {
     "name": "stdout",
     "output_type": "stream",
     "text": [
      "[['Vitalik Buterin, the creator of Ethereum, on Wednesday donated Ethereum and meme coins worth $1.5 billion in one of the largest-ever individual philanthropy efforts.', 'Buterin transferred 500 ETH and … [+1667 chars]'], ['Solana isn’t known yet outside of the crypto community.', 'But insiders think the blockchain platform is interesting for a wide variety of reasons, beginning with its amiable founder, Anatoly Yakovenko,… [+7156 chars]'], ['Bitcoin, Ethereum and a host of Altcoins suffered massive drops Tuesday night and Wednesday morning, erasing months of gains and hundreds of billions in market cap.', 'The overall crypto market shrunk m… [+1182 chars]'], [], ['A representation of virtual currency Ethereum is seen in front of a stock graph in this illustration taken February 19, 2021.', 'REUTERS/Dado Ruvic/Illustration/File PhotoCryptocurrency Ethereum extende… [+1099 chars]'], ['GPU shortages and inflated prices have become a byproduct of the growth of cryptomining.', \"Needless to say, that's bad news for the gamers that make up a big chunk of the computing industry's customer … [+1461 chars]\"], ['Illustration by Alex Castro / The Verge\\r\\n\\n \\n\\n Cryptocurrency exchange Coinbase is experiencing a “partial” outage this morning for its entire site and application.', 'Additionally, both Coinbase and Bin… [+1307 chars]'], [\"Bitcoin vs. Ethereum\\r\\nGetty Images AsiaPac\\r\\nBitcoin has long been the dominant cryptocurrency, but recently Ethereum's native token, ether, has emerged as more than just a clear number two.\", 'In 2021… [+7281 chars]'], ['Ethereum will reduce its energy consumption by 99.95% following its transition to proof-of-stake, according to a new blog post from Carl Beekhuizen of the Ethereum Foundation.', 'Beekhuizen estimated th… [+738 chars]'], [\"This new mining feature is called 'Norton Crypto' and will be rolling out tomorrow to Norton 360 users enrolled in Norton's early adopter program.\", 'When Norton Crypto is enabled, the software will use… [+631 chars]'], ['\"We are building a team\" the page declares, stating: \"We welcome exceptional engineers (solidity, react, python), designers, gamers, marketers, and community leaders.', 'If you want to join our team, se… [+478 chars]'], ['Representations of virtual currency Bitcoin are placed on U.S. Dollar banknotes in this illustration taken May 26, 2020.', 'REUTERS/Dado Ruvic/File PhotoBitcoin hit record outflows last week, as investo… [+2052 chars]'], ['Bitcoin and ethereum posted their largest one-day drop since March last year on Wednesday, with losses in the market capitalization for the entire cryptocurrency sector approaching $1 trillion.', 'The … [+523 chars]'], ['Cryptocurrency ether hit a record high on Wednesday, adding to a recent surge on the back of a broader run-up in decentralised finance applications and increasing institutional interest in cryptocurr… [+1644 chars]'], ['Opinions expressed by Entrepreneur contributors are their own.', 'Launched in March 2021 and having racked up more than one million users already, SafeMoon is a blockchain-based cryptocurrency\\xa0similar … [+3939 chars]'], ['My latest toenail clippings.', \"They're probably worth about one hundred billion trillion dollars at the time of writing.\", 'Or should I donate actual money to appear more credible?'], ['CryptoPunks represent the only historically relevant narrative upon which value could conceivably live for decades within an expanding catalogue raisonné, and Ill be damned if Im counting Jacks tweet… [+1096 chars]'], [\"By Cristina CriddleTechnology reporter\\r\\nimage captionNFT Kim Catdarshian's fur is dotted with diamonds, the symbol for cryptocurrency Ethereum\\r\\nThe hype surrounding NFTs (non-fungible tokens) has bee… [+6387 chars]\"], ['A representation of virtual currency Ethereum is seen in front of a stock graph in this illustration taken February 19, 2021.', 'REUTERS/Dado Ruvic/IllustrationCryptocurrency ether broke past $4,000 on … [+526 chars]'], ['This article was translated from our Spanish edition using AI technologies.', 'Errors may exist due to this process.', 'This week, the world of cryptocurrencies experienced a severe collapse, losing about… [+2059 chars]']]\n"
     ]
    }
   ],
   "source": [
    "print(ethereum_tokenized)"
   ]
  },
  {
   "cell_type": "code",
   "execution_count": 24,
   "metadata": {},
   "outputs": [],
   "source": [
    "# Create a list of stopwords\n",
    "sw = set(stopwords.words('english'))\n",
    "regex = re.compile(\"[^a-zA-Z ]\")\n",
    "\n",
    "word_tokenized = []"
   ]
  },
  {
   "cell_type": "code",
   "execution_count": 25,
   "metadata": {},
   "outputs": [],
   "source": [
    "# Complete the tokenizer function\n",
    "def tokenizer(text):\n",
    "    \"\"\"Tokenizes text.\"\"\"\n",
    "    \n",
    "    # Remove the punctuation from text\n",
    "    # Create a tokenized list of the words\n",
    "    # Lemmatize words into root words\n",
    "    # Convert the words to lowercase\n",
    "    # Remove the stop words\n",
    "    sw = set(stopwords.words('english'))\n",
    "    regex = re.compile(\"[^a-zA-Z ]\")\n",
    "    re_clean = regex.sub('', text)\n",
    "    words = word_tokenize(re_clean)\n",
    "    lem = [lemmatizer.lemmatize(word) for word in words]\n",
    "    tokens = [word.lower() for word in lem if word.lower() not in sw]\n",
    "\n",
    "    return tokens"
   ]
  },
  {
   "cell_type": "code",
   "execution_count": 26,
   "metadata": {},
   "outputs": [],
   "source": [
    "# Create a new tokens column for Bitcoin\n",
    "for btc_story in bitcoin_tokenized:\n",
    "    btc_words = []\n",
    "    for btc_sentence in btc_story:\n",
    "        btc_words = btc_words + word_tokenize(btc_sentence)\n",
    "    word_tokenized.append(btc_words)"
   ]
  },
  {
   "cell_type": "code",
   "execution_count": 27,
   "metadata": {},
   "outputs": [],
   "source": [
    "#btc_df = pd.DataFrame({\n",
    "#    'bitcoin_raw': bitcoin_rawtext,\n",
    "#    'bitcoin_tokenized': bitcoin_tokenized,\n",
    "#    'word_tokenized': word_tokenized\n",
    "#})\n",
    "\n",
    "#btc_df.index = "
   ]
  },
  {
   "cell_type": "code",
   "execution_count": 28,
   "metadata": {},
   "outputs": [],
   "source": [
    "# Create a new tokens column for Ethereum\n",
    "for eth_story in ethereum_tokenized:\n",
    "    eth_words = []\n",
    "    for eth_sentence in eth_story:\n",
    "        eth_words = eth_words + word_tokenize(eth_sentence)\n",
    "    word_tokenized.append(eth_words)"
   ]
  },
  {
   "cell_type": "code",
   "execution_count": 29,
   "metadata": {},
   "outputs": [
    {
     "data": {
      "text/html": [
       "<div>\n",
       "<style scoped>\n",
       "    .dataframe tbody tr th:only-of-type {\n",
       "        vertical-align: middle;\n",
       "    }\n",
       "\n",
       "    .dataframe tbody tr th {\n",
       "        vertical-align: top;\n",
       "    }\n",
       "\n",
       "    .dataframe thead th {\n",
       "        text-align: right;\n",
       "    }\n",
       "</style>\n",
       "<table border=\"1\" class=\"dataframe\">\n",
       "  <thead>\n",
       "    <tr style=\"text-align: right;\">\n",
       "      <th></th>\n",
       "      <th>date</th>\n",
       "      <th>text</th>\n",
       "      <th>compound</th>\n",
       "      <th>positive</th>\n",
       "      <th>negative</th>\n",
       "      <th>neutral</th>\n",
       "    </tr>\n",
       "  </thead>\n",
       "  <tbody>\n",
       "    <tr>\n",
       "      <th>0</th>\n",
       "      <td>2021-05-12</td>\n",
       "      <td>Just weeks after Tesla started accepting Bitco...</td>\n",
       "      <td>0.3818</td>\n",
       "      <td>0.071</td>\n",
       "      <td>0.000</td>\n",
       "      <td>0.929</td>\n",
       "    </tr>\n",
       "    <tr>\n",
       "      <th>1</th>\n",
       "      <td>2021-06-09</td>\n",
       "      <td>El Salvador's President Nayib Bukele has made ...</td>\n",
       "      <td>0.8402</td>\n",
       "      <td>0.282</td>\n",
       "      <td>0.000</td>\n",
       "      <td>0.718</td>\n",
       "    </tr>\n",
       "    <tr>\n",
       "      <th>2</th>\n",
       "      <td>2021-05-12</td>\n",
       "      <td>Image: Tesla\\r\\n\\n \\n\\n Tesla has stopped acce...</td>\n",
       "      <td>0.4939</td>\n",
       "      <td>0.134</td>\n",
       "      <td>0.050</td>\n",
       "      <td>0.816</td>\n",
       "    </tr>\n",
       "    <tr>\n",
       "      <th>3</th>\n",
       "      <td>2021-06-09</td>\n",
       "      <td>El Salvador has become the first country in th...</td>\n",
       "      <td>0.1280</td>\n",
       "      <td>0.043</td>\n",
       "      <td>0.000</td>\n",
       "      <td>0.957</td>\n",
       "    </tr>\n",
       "    <tr>\n",
       "      <th>4</th>\n",
       "      <td>2021-05-19</td>\n",
       "      <td>Illustration by Alex Castro / The Verge\\r\\n\\n ...</td>\n",
       "      <td>0.0000</td>\n",
       "      <td>0.000</td>\n",
       "      <td>0.000</td>\n",
       "      <td>1.000</td>\n",
       "    </tr>\n",
       "    <tr>\n",
       "      <th>5</th>\n",
       "      <td>2021-05-17</td>\n",
       "      <td>Last week, whenElon Musk tweeted that he had s...</td>\n",
       "      <td>0.4754</td>\n",
       "      <td>0.075</td>\n",
       "      <td>0.000</td>\n",
       "      <td>0.925</td>\n",
       "    </tr>\n",
       "    <tr>\n",
       "      <th>6</th>\n",
       "      <td>2021-05-11</td>\n",
       "      <td>Mark Zuckerberg posted a picture of his two, f...</td>\n",
       "      <td>0.8455</td>\n",
       "      <td>0.217</td>\n",
       "      <td>0.000</td>\n",
       "      <td>0.783</td>\n",
       "    </tr>\n",
       "    <tr>\n",
       "      <th>7</th>\n",
       "      <td>2021-05-12</td>\n",
       "      <td>Tesla CEO Elon Musk has changed his stance on ...</td>\n",
       "      <td>0.3818</td>\n",
       "      <td>0.071</td>\n",
       "      <td>0.000</td>\n",
       "      <td>0.929</td>\n",
       "    </tr>\n",
       "    <tr>\n",
       "      <th>8</th>\n",
       "      <td>2021-05-17</td>\n",
       "      <td>That love affair between Elon Musk and Bitcoin...</td>\n",
       "      <td>0.7322</td>\n",
       "      <td>0.162</td>\n",
       "      <td>0.000</td>\n",
       "      <td>0.838</td>\n",
       "    </tr>\n",
       "    <tr>\n",
       "      <th>9</th>\n",
       "      <td>2021-05-19</td>\n",
       "      <td>Bitcoin, Ethereum and a host of Altcoins suffe...</td>\n",
       "      <td>-0.2023</td>\n",
       "      <td>0.066</td>\n",
       "      <td>0.087</td>\n",
       "      <td>0.847</td>\n",
       "    </tr>\n",
       "    <tr>\n",
       "      <th>10</th>\n",
       "      <td>2021-05-10</td>\n",
       "      <td>Three years after its inception, crypto financ...</td>\n",
       "      <td>0.0000</td>\n",
       "      <td>0.000</td>\n",
       "      <td>0.000</td>\n",
       "      <td>1.000</td>\n",
       "    </tr>\n",
       "    <tr>\n",
       "      <th>11</th>\n",
       "      <td>2021-05-19</td>\n",
       "      <td>Now isn't the greatest time to be a cryptocurr...</td>\n",
       "      <td>-0.7627</td>\n",
       "      <td>0.000</td>\n",
       "      <td>0.180</td>\n",
       "      <td>0.820</td>\n",
       "    </tr>\n",
       "    <tr>\n",
       "      <th>12</th>\n",
       "      <td>2021-06-09</td>\n",
       "      <td>image captionThe move means bitcoin will be ac...</td>\n",
       "      <td>0.2732</td>\n",
       "      <td>0.060</td>\n",
       "      <td>0.000</td>\n",
       "      <td>0.940</td>\n",
       "    </tr>\n",
       "    <tr>\n",
       "      <th>13</th>\n",
       "      <td>2021-06-05</td>\n",
       "      <td>Hello friends, and welcome back to Week in Rev...</td>\n",
       "      <td>0.7500</td>\n",
       "      <td>0.154</td>\n",
       "      <td>0.000</td>\n",
       "      <td>0.846</td>\n",
       "    </tr>\n",
       "    <tr>\n",
       "      <th>14</th>\n",
       "      <td>2021-05-27</td>\n",
       "      <td>In spite of the environmental and regulatory i...</td>\n",
       "      <td>-0.5267</td>\n",
       "      <td>0.000</td>\n",
       "      <td>0.096</td>\n",
       "      <td>0.904</td>\n",
       "    </tr>\n",
       "    <tr>\n",
       "      <th>15</th>\n",
       "      <td>2021-05-13</td>\n",
       "      <td>When it comes to ransomware, you don't always ...</td>\n",
       "      <td>0.2500</td>\n",
       "      <td>0.071</td>\n",
       "      <td>0.071</td>\n",
       "      <td>0.859</td>\n",
       "    </tr>\n",
       "    <tr>\n",
       "      <th>16</th>\n",
       "      <td>2021-06-08</td>\n",
       "      <td>By Mary-Ann RussonBusiness reporter, BBC News\\...</td>\n",
       "      <td>0.3400</td>\n",
       "      <td>0.070</td>\n",
       "      <td>0.000</td>\n",
       "      <td>0.930</td>\n",
       "    </tr>\n",
       "    <tr>\n",
       "      <th>17</th>\n",
       "      <td>2021-05-26</td>\n",
       "      <td>The ban affects licensed and unlicensed miners...</td>\n",
       "      <td>-0.5574</td>\n",
       "      <td>0.000</td>\n",
       "      <td>0.107</td>\n",
       "      <td>0.893</td>\n",
       "    </tr>\n",
       "    <tr>\n",
       "      <th>18</th>\n",
       "      <td>2021-05-16</td>\n",
       "      <td>Hello friends, and welcome back to Week in Rev...</td>\n",
       "      <td>0.5707</td>\n",
       "      <td>0.159</td>\n",
       "      <td>0.067</td>\n",
       "      <td>0.773</td>\n",
       "    </tr>\n",
       "    <tr>\n",
       "      <th>19</th>\n",
       "      <td>2021-05-11</td>\n",
       "      <td>Elon Musk really, REALLY likes Dogecoin. \\r\\nA...</td>\n",
       "      <td>0.7434</td>\n",
       "      <td>0.179</td>\n",
       "      <td>0.000</td>\n",
       "      <td>0.821</td>\n",
       "    </tr>\n",
       "  </tbody>\n",
       "</table>\n",
       "</div>"
      ],
      "text/plain": [
       "          date                                               text  compound  \\\n",
       "0   2021-05-12  Just weeks after Tesla started accepting Bitco...    0.3818   \n",
       "1   2021-06-09  El Salvador's President Nayib Bukele has made ...    0.8402   \n",
       "2   2021-05-12  Image: Tesla\\r\\n\\n \\n\\n Tesla has stopped acce...    0.4939   \n",
       "3   2021-06-09  El Salvador has become the first country in th...    0.1280   \n",
       "4   2021-05-19  Illustration by Alex Castro / The Verge\\r\\n\\n ...    0.0000   \n",
       "5   2021-05-17  Last week, whenElon Musk tweeted that he had s...    0.4754   \n",
       "6   2021-05-11  Mark Zuckerberg posted a picture of his two, f...    0.8455   \n",
       "7   2021-05-12  Tesla CEO Elon Musk has changed his stance on ...    0.3818   \n",
       "8   2021-05-17  That love affair between Elon Musk and Bitcoin...    0.7322   \n",
       "9   2021-05-19  Bitcoin, Ethereum and a host of Altcoins suffe...   -0.2023   \n",
       "10  2021-05-10  Three years after its inception, crypto financ...    0.0000   \n",
       "11  2021-05-19  Now isn't the greatest time to be a cryptocurr...   -0.7627   \n",
       "12  2021-06-09  image captionThe move means bitcoin will be ac...    0.2732   \n",
       "13  2021-06-05  Hello friends, and welcome back to Week in Rev...    0.7500   \n",
       "14  2021-05-27  In spite of the environmental and regulatory i...   -0.5267   \n",
       "15  2021-05-13  When it comes to ransomware, you don't always ...    0.2500   \n",
       "16  2021-06-08  By Mary-Ann RussonBusiness reporter, BBC News\\...    0.3400   \n",
       "17  2021-05-26  The ban affects licensed and unlicensed miners...   -0.5574   \n",
       "18  2021-05-16  Hello friends, and welcome back to Week in Rev...    0.5707   \n",
       "19  2021-05-11  Elon Musk really, REALLY likes Dogecoin. \\r\\nA...    0.7434   \n",
       "\n",
       "    positive  negative  neutral  \n",
       "0      0.071     0.000    0.929  \n",
       "1      0.282     0.000    0.718  \n",
       "2      0.134     0.050    0.816  \n",
       "3      0.043     0.000    0.957  \n",
       "4      0.000     0.000    1.000  \n",
       "5      0.075     0.000    0.925  \n",
       "6      0.217     0.000    0.783  \n",
       "7      0.071     0.000    0.929  \n",
       "8      0.162     0.000    0.838  \n",
       "9      0.066     0.087    0.847  \n",
       "10     0.000     0.000    1.000  \n",
       "11     0.000     0.180    0.820  \n",
       "12     0.060     0.000    0.940  \n",
       "13     0.154     0.000    0.846  \n",
       "14     0.000     0.096    0.904  \n",
       "15     0.071     0.071    0.859  \n",
       "16     0.070     0.000    0.930  \n",
       "17     0.000     0.107    0.893  \n",
       "18     0.159     0.067    0.773  \n",
       "19     0.179     0.000    0.821  "
      ]
     },
     "execution_count": 29,
     "metadata": {},
     "output_type": "execute_result"
    }
   ],
   "source": [
    "bitcoin_df"
   ]
  },
  {
   "cell_type": "code",
   "execution_count": 30,
   "metadata": {},
   "outputs": [
    {
     "data": {
      "text/plain": [
       "[['Just weeks after Tesla started accepting Bitcoin as currency for cars, Elon Musk revealed in a tweet that it will \"suspend\" the effort.',\n",
       "  'According to the release (Tesla does not appear to have a funct… [+768 chars]'],\n",
       " [\"El Salvador's President Nayib Bukele has made good on his promise to adopt Bitcoin as legal tender.\",\n",
       "  \"Officials in the Central American country's congress voted to accept the cryptocurrency by a majori… [+1414 chars]\"],\n",
       " ['Image: Tesla\\r\\n\\n \\n\\n Tesla has stopped accepting bitcoin as payment for its cars out of concern that it will contribute to greater consumption of fossil fuels, according to a statement CEO Elon Musk tw… [+853 chars]'],\n",
       " ['El Salvador has become the first country in the world to recognize the cryptocurrency bitcoin as legal currency, according to President Nayib Bukele in a tweet on Wednesday.',\n",
       "  'Citizens will be able to … [+3840 chars]'],\n",
       " ['Illustration by Alex Castro / The Verge\\r\\n\\n \\n\\n Cryptocurrency exchange Coinbase is experiencing a “partial” outage this morning for its entire site and application.',\n",
       "  'Additionally, both Coinbase and Bin… [+1307 chars]'],\n",
       " ['Last week, whenElon Musk tweeted that he had spoken with the team of Doge developers about how to make the coin more efficient, the impact was predictable: It sent Dogecoin to the moon.',\n",
       "  'It was just t… [+3313 chars]'],\n",
       " ['Mark Zuckerberg posted a picture of his two, frankly adorable, goats noting their names are Max and Bitcoin.',\n",
       "  'And to that I say: OK then.',\n",
       "  \"Here's the post in question.\",\n",
       "  'Look at those cute little go… [+1482 chars]'],\n",
       " ['Tesla CEO Elon Musk has changed his stance on cryptocurrency.',\n",
       "  'Back in March, Musk announced Tesla was accepting Bitcoin for its electric cars.',\n",
       "  'Earlier this year the EV company even bought $1.5 billi… [+1308 chars]'],\n",
       " ['That love affair between Elon Musk and Bitcoin?',\n",
       "  \"It's just become complicated.\",\n",
       "  \"It's been a rough couple of days in crypto world, with prices of most major crypto assets plummeting Bitcoin, in partic… [+6347 chars]\"],\n",
       " ['Bitcoin, Ethereum and a host of Altcoins suffered massive drops Tuesday night and Wednesday morning, erasing months of gains and hundreds of billions in market cap.',\n",
       "  'The overall crypto market shrunk m… [+1182 chars]'],\n",
       " ['Three years after its inception, crypto financial service provider Babel Finance is racking up fundings and partnerships from major institutional investors.',\n",
       "  'The startup said Monday that it has closed… [+2610 chars]'],\n",
       " [\"Now isn't the greatest time to be a cryptocurrency trader.\",\n",
       "  'Coinbase suffered an hours-long outage this morning (May 19th) that hindered transactions on the exchange.',\n",
       "  'The company had pinpointed the ma… [+909 chars]'],\n",
       " ['image captionThe move means bitcoin will be accepted everywhere for goods and services, alongside the US dollar\\r\\nEl Salvador has become the first country in the world to officially classify Bitcoin a… [+2233 chars]'],\n",
       " ['Hello friends, and welcome back to Week in Review!',\n",
       "  'Last week, I wrote about tech taking on Disney.',\n",
       "  'This week, I’m talking about the search for a new crypto messiah.',\n",
       "  'If youre reading this on the Tec… [+7741 chars]'],\n",
       " ['In spite of the environmental and regulatory ills that generally come with crypto as a currency, PayPals bitcoin ambitions keep on ramping up.',\n",
       "  'On Wednesday, Jose Fernandez da Pontethe companys VP of … [+2193 chars]'],\n",
       " [\"When it comes to ransomware, you don't always get what you pay for.\",\n",
       "  'Colonial Pipeline, which operates more than 5,500 miles of fuel pipelines in the United States, found that out the hard way this … [+1855 chars]'],\n",
       " ['By Mary-Ann RussonBusiness reporter, BBC News\\r\\nimage copyrightGetty Images\\r\\nFormer US President Donald Trump has told Fox Business that he sees Bitcoin as a \"scam\" affecting the value of the US dolla… [+3638 chars]'],\n",
       " ['The ban affects licensed and unlicensed miners alike\\r\\nPhoto by Michele Doying / The Verge\\r\\nIran is temporarily banning cryptocurrency mining after some of the countrys major cities experienced repeat… [+2224 chars]'],\n",
       " ['Hello friends, and welcome back to Week in Review!',\n",
       "  'Last week, I wrote about Facebook’s never-ending Trump problem.',\n",
       "  'This week, I’m looking at Elon Musk’s wild week of whipping crypto markets.',\n",
       "  'If you… [+5768 chars]'],\n",
       " ['Elon Musk really, REALLY likes Dogecoin.',\n",
       "  'After endlessly shilling the joke cryptocurrency on Twitter, in interviews and on television, and after announcing that his company SpaceX will literally se… [+1228 chars]']]"
      ]
     },
     "execution_count": 30,
     "metadata": {},
     "output_type": "execute_result"
    }
   ],
   "source": [
    "bitcoin_tokenized"
   ]
  },
  {
   "cell_type": "code",
   "execution_count": 31,
   "metadata": {},
   "outputs": [
    {
     "data": {
      "text/plain": [
       "[['Vitalik Buterin, the creator of Ethereum, on Wednesday donated Ethereum and meme coins worth $1.5 billion in one of the largest-ever individual philanthropy efforts.',\n",
       "  'Buterin transferred 500 ETH and … [+1667 chars]'],\n",
       " ['Solana isn’t known yet outside of the crypto community.',\n",
       "  'But insiders think the blockchain platform is interesting for a wide variety of reasons, beginning with its amiable founder, Anatoly Yakovenko,… [+7156 chars]'],\n",
       " ['Bitcoin, Ethereum and a host of Altcoins suffered massive drops Tuesday night and Wednesday morning, erasing months of gains and hundreds of billions in market cap.',\n",
       "  'The overall crypto market shrunk m… [+1182 chars]'],\n",
       " [],\n",
       " ['A representation of virtual currency Ethereum is seen in front of a stock graph in this illustration taken February 19, 2021.',\n",
       "  'REUTERS/Dado Ruvic/Illustration/File PhotoCryptocurrency Ethereum extende… [+1099 chars]'],\n",
       " ['GPU shortages and inflated prices have become a byproduct of the growth of cryptomining.',\n",
       "  \"Needless to say, that's bad news for the gamers that make up a big chunk of the computing industry's customer … [+1461 chars]\"],\n",
       " ['Illustration by Alex Castro / The Verge\\r\\n\\n \\n\\n Cryptocurrency exchange Coinbase is experiencing a “partial” outage this morning for its entire site and application.',\n",
       "  'Additionally, both Coinbase and Bin… [+1307 chars]'],\n",
       " [\"Bitcoin vs. Ethereum\\r\\nGetty Images AsiaPac\\r\\nBitcoin has long been the dominant cryptocurrency, but recently Ethereum's native token, ether, has emerged as more than just a clear number two.\",\n",
       "  'In 2021… [+7281 chars]'],\n",
       " ['Ethereum will reduce its energy consumption by 99.95% following its transition to proof-of-stake, according to a new blog post from Carl Beekhuizen of the Ethereum Foundation.',\n",
       "  'Beekhuizen estimated th… [+738 chars]'],\n",
       " [\"This new mining feature is called 'Norton Crypto' and will be rolling out tomorrow to Norton 360 users enrolled in Norton's early adopter program.\",\n",
       "  'When Norton Crypto is enabled, the software will use… [+631 chars]'],\n",
       " ['\"We are building a team\" the page declares, stating: \"We welcome exceptional engineers (solidity, react, python), designers, gamers, marketers, and community leaders.',\n",
       "  'If you want to join our team, se… [+478 chars]'],\n",
       " ['Representations of virtual currency Bitcoin are placed on U.S. Dollar banknotes in this illustration taken May 26, 2020.',\n",
       "  'REUTERS/Dado Ruvic/File PhotoBitcoin hit record outflows last week, as investo… [+2052 chars]'],\n",
       " ['Bitcoin and ethereum posted their largest one-day drop since March last year on Wednesday, with losses in the market capitalization for the entire cryptocurrency sector approaching $1 trillion.',\n",
       "  'The … [+523 chars]'],\n",
       " ['Cryptocurrency ether hit a record high on Wednesday, adding to a recent surge on the back of a broader run-up in decentralised finance applications and increasing institutional interest in cryptocurr… [+1644 chars]'],\n",
       " ['Opinions expressed by Entrepreneur contributors are their own.',\n",
       "  'Launched in March 2021 and having racked up more than one million users already, SafeMoon is a blockchain-based cryptocurrency\\xa0similar … [+3939 chars]'],\n",
       " ['My latest toenail clippings.',\n",
       "  \"They're probably worth about one hundred billion trillion dollars at the time of writing.\",\n",
       "  'Or should I donate actual money to appear more credible?'],\n",
       " ['CryptoPunks represent the only historically relevant narrative upon which value could conceivably live for decades within an expanding catalogue raisonné, and Ill be damned if Im counting Jacks tweet… [+1096 chars]'],\n",
       " [\"By Cristina CriddleTechnology reporter\\r\\nimage captionNFT Kim Catdarshian's fur is dotted with diamonds, the symbol for cryptocurrency Ethereum\\r\\nThe hype surrounding NFTs (non-fungible tokens) has bee… [+6387 chars]\"],\n",
       " ['A representation of virtual currency Ethereum is seen in front of a stock graph in this illustration taken February 19, 2021.',\n",
       "  'REUTERS/Dado Ruvic/IllustrationCryptocurrency ether broke past $4,000 on … [+526 chars]'],\n",
       " ['This article was translated from our Spanish edition using AI technologies.',\n",
       "  'Errors may exist due to this process.',\n",
       "  'This week, the world of cryptocurrencies experienced a severe collapse, losing about… [+2059 chars]']]"
      ]
     },
     "execution_count": 31,
     "metadata": {},
     "output_type": "execute_result"
    }
   ],
   "source": [
    "ethereum_tokenized"
   ]
  },
  {
   "cell_type": "code",
   "execution_count": 42,
   "metadata": {},
   "outputs": [
    {
     "data": {
      "text/plain": [
       "list"
      ]
     },
     "execution_count": 42,
     "metadata": {},
     "output_type": "execute_result"
    }
   ],
   "source": [
    "type(ethereum_tokenized)"
   ]
  },
  {
   "cell_type": "markdown",
   "metadata": {},
   "source": [
    "---"
   ]
  },
  {
   "cell_type": "markdown",
   "metadata": {},
   "source": [
    "### NGrams and Frequency Analysis\n",
    "\n",
    "In this section you will look at the ngrams and word frequency for each coin. \n",
    "\n",
    "1. Use NLTK to produce the n-grams for N = 2. \n",
    "2. List the top 10 words for each coin. "
   ]
  },
  {
   "cell_type": "code",
   "execution_count": 32,
   "metadata": {},
   "outputs": [],
   "source": [
    "from collections import Counter\n",
    "from nltk import ngrams"
   ]
  },
  {
   "cell_type": "code",
   "execution_count": 44,
   "metadata": {},
   "outputs": [],
   "source": [
    " def bigram_counter(tokenized): \n",
    "    # Combine all articles in corpus into one large string\n",
    "    big_string = ' '.join(tokenized)\n",
    "    processed = process_text(big_string)\n",
    "    bigrams = ngrams(processed, n=2)\n",
    "    top_10 = dict(Counter(bigrams).most_common(10))\n",
    "    return pd.DataFrame(list(top_10.items()), columns=['bigram', 'count'])"
   ]
  },
  {
   "cell_type": "code",
   "execution_count": 45,
   "metadata": {},
   "outputs": [
    {
     "ename": "TypeError",
     "evalue": "sequence item 0: expected str instance, list found",
     "output_type": "error",
     "traceback": [
      "\u001b[0;31m---------------------------------------------------------------------------\u001b[0m",
      "\u001b[0;31mTypeError\u001b[0m                                 Traceback (most recent call last)",
      "\u001b[0;32m<ipython-input-45-6aa780e469f4>\u001b[0m in \u001b[0;36m<module>\u001b[0;34m\u001b[0m\n\u001b[0;32m----> 1\u001b[0;31m \u001b[0mbigram_counter\u001b[0m\u001b[0;34m(\u001b[0m\u001b[0mbitcoin_tokenized\u001b[0m\u001b[0;34m)\u001b[0m\u001b[0;34m\u001b[0m\u001b[0;34m\u001b[0m\u001b[0m\n\u001b[0m",
      "\u001b[0;32m<ipython-input-44-57d30f9a7420>\u001b[0m in \u001b[0;36mbigram_counter\u001b[0;34m(tokenized)\u001b[0m\n\u001b[1;32m      1\u001b[0m \u001b[0;32mdef\u001b[0m \u001b[0mbigram_counter\u001b[0m\u001b[0;34m(\u001b[0m\u001b[0mtokenized\u001b[0m\u001b[0;34m)\u001b[0m\u001b[0;34m:\u001b[0m\u001b[0;34m\u001b[0m\u001b[0;34m\u001b[0m\u001b[0m\n\u001b[1;32m      2\u001b[0m    \u001b[0;31m# Combine all articles in corpus into one large string\u001b[0m\u001b[0;34m\u001b[0m\u001b[0;34m\u001b[0m\u001b[0;34m\u001b[0m\u001b[0m\n\u001b[0;32m----> 3\u001b[0;31m    \u001b[0mbig_string\u001b[0m \u001b[0;34m=\u001b[0m \u001b[0;34m' '\u001b[0m\u001b[0;34m.\u001b[0m\u001b[0mjoin\u001b[0m\u001b[0;34m(\u001b[0m\u001b[0mtokenized\u001b[0m\u001b[0;34m)\u001b[0m\u001b[0;34m\u001b[0m\u001b[0;34m\u001b[0m\u001b[0m\n\u001b[0m\u001b[1;32m      4\u001b[0m    \u001b[0mprocessed\u001b[0m \u001b[0;34m=\u001b[0m \u001b[0mprocess_text\u001b[0m\u001b[0;34m(\u001b[0m\u001b[0mbig_string\u001b[0m\u001b[0;34m)\u001b[0m\u001b[0;34m\u001b[0m\u001b[0;34m\u001b[0m\u001b[0m\n\u001b[1;32m      5\u001b[0m    \u001b[0mbigrams\u001b[0m \u001b[0;34m=\u001b[0m \u001b[0mngrams\u001b[0m\u001b[0;34m(\u001b[0m\u001b[0mprocessed\u001b[0m\u001b[0;34m,\u001b[0m \u001b[0mn\u001b[0m\u001b[0;34m=\u001b[0m\u001b[0;36m2\u001b[0m\u001b[0;34m)\u001b[0m\u001b[0;34m\u001b[0m\u001b[0;34m\u001b[0m\u001b[0m\n",
      "\u001b[0;31mTypeError\u001b[0m: sequence item 0: expected str instance, list found"
     ]
    }
   ],
   "source": [
    "bigram_counter(bitcoin_tokenized)"
   ]
  },
  {
   "cell_type": "code",
   "execution_count": 41,
   "metadata": {},
   "outputs": [
    {
     "ename": "TypeError",
     "evalue": "unhashable type: 'list'",
     "output_type": "error",
     "traceback": [
      "\u001b[0;31m---------------------------------------------------------------------------\u001b[0m",
      "\u001b[0;31mTypeError\u001b[0m                                 Traceback (most recent call last)",
      "\u001b[0;32m<ipython-input-41-a58ee0ce159e>\u001b[0m in \u001b[0;36m<module>\u001b[0;34m\u001b[0m\n\u001b[1;32m      1\u001b[0m \u001b[0;31m# Generate the Bitcoin N-grams where N=2\u001b[0m\u001b[0;34m\u001b[0m\u001b[0;34m\u001b[0m\u001b[0;34m\u001b[0m\u001b[0m\n\u001b[0;32m----> 2\u001b[0;31m \u001b[0mbitcoin_bigram\u001b[0m \u001b[0;34m=\u001b[0m \u001b[0mCounter\u001b[0m\u001b[0;34m(\u001b[0m\u001b[0mngrams\u001b[0m\u001b[0;34m(\u001b[0m\u001b[0mbitcoin_tokenized\u001b[0m\u001b[0;34m,\u001b[0m \u001b[0mn\u001b[0m\u001b[0;34m=\u001b[0m\u001b[0;36m2\u001b[0m\u001b[0;34m)\u001b[0m\u001b[0;34m)\u001b[0m\u001b[0;34m\u001b[0m\u001b[0;34m\u001b[0m\u001b[0m\n\u001b[0m\u001b[1;32m      3\u001b[0m \u001b[0;31m#print(bitcoin_bigram)\u001b[0m\u001b[0;34m\u001b[0m\u001b[0;34m\u001b[0m\u001b[0;34m\u001b[0m\u001b[0m\n",
      "\u001b[0;32m~/opt/anaconda3/lib/python3.8/collections/__init__.py\u001b[0m in \u001b[0;36m__init__\u001b[0;34m(self, iterable, **kwds)\u001b[0m\n\u001b[1;32m    550\u001b[0m         '''\n\u001b[1;32m    551\u001b[0m         \u001b[0msuper\u001b[0m\u001b[0;34m(\u001b[0m\u001b[0mCounter\u001b[0m\u001b[0;34m,\u001b[0m \u001b[0mself\u001b[0m\u001b[0;34m)\u001b[0m\u001b[0;34m.\u001b[0m\u001b[0m__init__\u001b[0m\u001b[0;34m(\u001b[0m\u001b[0;34m)\u001b[0m\u001b[0;34m\u001b[0m\u001b[0;34m\u001b[0m\u001b[0m\n\u001b[0;32m--> 552\u001b[0;31m         \u001b[0mself\u001b[0m\u001b[0;34m.\u001b[0m\u001b[0mupdate\u001b[0m\u001b[0;34m(\u001b[0m\u001b[0miterable\u001b[0m\u001b[0;34m,\u001b[0m \u001b[0;34m**\u001b[0m\u001b[0mkwds\u001b[0m\u001b[0;34m)\u001b[0m\u001b[0;34m\u001b[0m\u001b[0;34m\u001b[0m\u001b[0m\n\u001b[0m\u001b[1;32m    553\u001b[0m \u001b[0;34m\u001b[0m\u001b[0m\n\u001b[1;32m    554\u001b[0m     \u001b[0;32mdef\u001b[0m \u001b[0m__missing__\u001b[0m\u001b[0;34m(\u001b[0m\u001b[0mself\u001b[0m\u001b[0;34m,\u001b[0m \u001b[0mkey\u001b[0m\u001b[0;34m)\u001b[0m\u001b[0;34m:\u001b[0m\u001b[0;34m\u001b[0m\u001b[0;34m\u001b[0m\u001b[0m\n",
      "\u001b[0;32m~/opt/anaconda3/lib/python3.8/collections/__init__.py\u001b[0m in \u001b[0;36mupdate\u001b[0;34m(self, iterable, **kwds)\u001b[0m\n\u001b[1;32m    635\u001b[0m                     \u001b[0msuper\u001b[0m\u001b[0;34m(\u001b[0m\u001b[0mCounter\u001b[0m\u001b[0;34m,\u001b[0m \u001b[0mself\u001b[0m\u001b[0;34m)\u001b[0m\u001b[0;34m.\u001b[0m\u001b[0mupdate\u001b[0m\u001b[0;34m(\u001b[0m\u001b[0miterable\u001b[0m\u001b[0;34m)\u001b[0m \u001b[0;31m# fast path when counter is empty\u001b[0m\u001b[0;34m\u001b[0m\u001b[0;34m\u001b[0m\u001b[0m\n\u001b[1;32m    636\u001b[0m             \u001b[0;32melse\u001b[0m\u001b[0;34m:\u001b[0m\u001b[0;34m\u001b[0m\u001b[0;34m\u001b[0m\u001b[0m\n\u001b[0;32m--> 637\u001b[0;31m                 \u001b[0m_count_elements\u001b[0m\u001b[0;34m(\u001b[0m\u001b[0mself\u001b[0m\u001b[0;34m,\u001b[0m \u001b[0miterable\u001b[0m\u001b[0;34m)\u001b[0m\u001b[0;34m\u001b[0m\u001b[0;34m\u001b[0m\u001b[0m\n\u001b[0m\u001b[1;32m    638\u001b[0m         \u001b[0;32mif\u001b[0m \u001b[0mkwds\u001b[0m\u001b[0;34m:\u001b[0m\u001b[0;34m\u001b[0m\u001b[0;34m\u001b[0m\u001b[0m\n\u001b[1;32m    639\u001b[0m             \u001b[0mself\u001b[0m\u001b[0;34m.\u001b[0m\u001b[0mupdate\u001b[0m\u001b[0;34m(\u001b[0m\u001b[0mkwds\u001b[0m\u001b[0;34m)\u001b[0m\u001b[0;34m\u001b[0m\u001b[0;34m\u001b[0m\u001b[0m\n",
      "\u001b[0;31mTypeError\u001b[0m: unhashable type: 'list'"
     ]
    }
   ],
   "source": [
    "# Generate the Bitcoin N-grams where N=2\n",
    "bitcoin_bigram = Counter(ngrams(bitcoin_tokenized, n=2))\n",
    "#print(bitcoin_bigram)"
   ]
  },
  {
   "cell_type": "code",
   "execution_count": null,
   "metadata": {},
   "outputs": [],
   "source": [
    "# Generate the Ethereum N-grams where N=2\n",
    "# YOUR CODE HERE!"
   ]
  },
  {
   "cell_type": "code",
   "execution_count": 46,
   "metadata": {},
   "outputs": [],
   "source": [
    "# Function token_count generates the top 10 words for a given coin\n",
    "def token_count(tokens, N=3):\n",
    "    \"\"\"Returns the top N tokens from the frequency count\"\"\"\n",
    "    return Counter(tokens).most_common(N)"
   ]
  },
  {
   "cell_type": "code",
   "execution_count": 47,
   "metadata": {},
   "outputs": [
    {
     "ename": "TypeError",
     "evalue": "unhashable type: 'list'",
     "output_type": "error",
     "traceback": [
      "\u001b[0;31m---------------------------------------------------------------------------\u001b[0m",
      "\u001b[0;31mTypeError\u001b[0m                                 Traceback (most recent call last)",
      "\u001b[0;32m<ipython-input-47-986e6fee8630>\u001b[0m in \u001b[0;36m<module>\u001b[0;34m\u001b[0m\n\u001b[1;32m      1\u001b[0m \u001b[0;31m# Use token_count to get the top 10 words for Bitcoin\u001b[0m\u001b[0;34m\u001b[0m\u001b[0;34m\u001b[0m\u001b[0;34m\u001b[0m\u001b[0m\n\u001b[0;32m----> 2\u001b[0;31m \u001b[0mtoken_count\u001b[0m\u001b[0;34m(\u001b[0m\u001b[0mbitcoin_tokenized\u001b[0m\u001b[0;34m)\u001b[0m\u001b[0;34m\u001b[0m\u001b[0;34m\u001b[0m\u001b[0m\n\u001b[0m",
      "\u001b[0;32m<ipython-input-46-4ffb24a26f6f>\u001b[0m in \u001b[0;36mtoken_count\u001b[0;34m(tokens, N)\u001b[0m\n\u001b[1;32m      2\u001b[0m \u001b[0;32mdef\u001b[0m \u001b[0mtoken_count\u001b[0m\u001b[0;34m(\u001b[0m\u001b[0mtokens\u001b[0m\u001b[0;34m,\u001b[0m \u001b[0mN\u001b[0m\u001b[0;34m=\u001b[0m\u001b[0;36m3\u001b[0m\u001b[0;34m)\u001b[0m\u001b[0;34m:\u001b[0m\u001b[0;34m\u001b[0m\u001b[0;34m\u001b[0m\u001b[0m\n\u001b[1;32m      3\u001b[0m     \u001b[0;34m\"\"\"Returns the top N tokens from the frequency count\"\"\"\u001b[0m\u001b[0;34m\u001b[0m\u001b[0;34m\u001b[0m\u001b[0m\n\u001b[0;32m----> 4\u001b[0;31m     \u001b[0;32mreturn\u001b[0m \u001b[0mCounter\u001b[0m\u001b[0;34m(\u001b[0m\u001b[0mtokens\u001b[0m\u001b[0;34m)\u001b[0m\u001b[0;34m.\u001b[0m\u001b[0mmost_common\u001b[0m\u001b[0;34m(\u001b[0m\u001b[0mN\u001b[0m\u001b[0;34m)\u001b[0m\u001b[0;34m\u001b[0m\u001b[0;34m\u001b[0m\u001b[0m\n\u001b[0m",
      "\u001b[0;32m~/opt/anaconda3/lib/python3.8/collections/__init__.py\u001b[0m in \u001b[0;36m__init__\u001b[0;34m(self, iterable, **kwds)\u001b[0m\n\u001b[1;32m    550\u001b[0m         '''\n\u001b[1;32m    551\u001b[0m         \u001b[0msuper\u001b[0m\u001b[0;34m(\u001b[0m\u001b[0mCounter\u001b[0m\u001b[0;34m,\u001b[0m \u001b[0mself\u001b[0m\u001b[0;34m)\u001b[0m\u001b[0;34m.\u001b[0m\u001b[0m__init__\u001b[0m\u001b[0;34m(\u001b[0m\u001b[0;34m)\u001b[0m\u001b[0;34m\u001b[0m\u001b[0;34m\u001b[0m\u001b[0m\n\u001b[0;32m--> 552\u001b[0;31m         \u001b[0mself\u001b[0m\u001b[0;34m.\u001b[0m\u001b[0mupdate\u001b[0m\u001b[0;34m(\u001b[0m\u001b[0miterable\u001b[0m\u001b[0;34m,\u001b[0m \u001b[0;34m**\u001b[0m\u001b[0mkwds\u001b[0m\u001b[0;34m)\u001b[0m\u001b[0;34m\u001b[0m\u001b[0;34m\u001b[0m\u001b[0m\n\u001b[0m\u001b[1;32m    553\u001b[0m \u001b[0;34m\u001b[0m\u001b[0m\n\u001b[1;32m    554\u001b[0m     \u001b[0;32mdef\u001b[0m \u001b[0m__missing__\u001b[0m\u001b[0;34m(\u001b[0m\u001b[0mself\u001b[0m\u001b[0;34m,\u001b[0m \u001b[0mkey\u001b[0m\u001b[0;34m)\u001b[0m\u001b[0;34m:\u001b[0m\u001b[0;34m\u001b[0m\u001b[0;34m\u001b[0m\u001b[0m\n",
      "\u001b[0;32m~/opt/anaconda3/lib/python3.8/collections/__init__.py\u001b[0m in \u001b[0;36mupdate\u001b[0;34m(self, iterable, **kwds)\u001b[0m\n\u001b[1;32m    635\u001b[0m                     \u001b[0msuper\u001b[0m\u001b[0;34m(\u001b[0m\u001b[0mCounter\u001b[0m\u001b[0;34m,\u001b[0m \u001b[0mself\u001b[0m\u001b[0;34m)\u001b[0m\u001b[0;34m.\u001b[0m\u001b[0mupdate\u001b[0m\u001b[0;34m(\u001b[0m\u001b[0miterable\u001b[0m\u001b[0;34m)\u001b[0m \u001b[0;31m# fast path when counter is empty\u001b[0m\u001b[0;34m\u001b[0m\u001b[0;34m\u001b[0m\u001b[0m\n\u001b[1;32m    636\u001b[0m             \u001b[0;32melse\u001b[0m\u001b[0;34m:\u001b[0m\u001b[0;34m\u001b[0m\u001b[0;34m\u001b[0m\u001b[0m\n\u001b[0;32m--> 637\u001b[0;31m                 \u001b[0m_count_elements\u001b[0m\u001b[0;34m(\u001b[0m\u001b[0mself\u001b[0m\u001b[0;34m,\u001b[0m \u001b[0miterable\u001b[0m\u001b[0;34m)\u001b[0m\u001b[0;34m\u001b[0m\u001b[0;34m\u001b[0m\u001b[0m\n\u001b[0m\u001b[1;32m    638\u001b[0m         \u001b[0;32mif\u001b[0m \u001b[0mkwds\u001b[0m\u001b[0;34m:\u001b[0m\u001b[0;34m\u001b[0m\u001b[0;34m\u001b[0m\u001b[0m\n\u001b[1;32m    639\u001b[0m             \u001b[0mself\u001b[0m\u001b[0;34m.\u001b[0m\u001b[0mupdate\u001b[0m\u001b[0;34m(\u001b[0m\u001b[0mkwds\u001b[0m\u001b[0;34m)\u001b[0m\u001b[0;34m\u001b[0m\u001b[0;34m\u001b[0m\u001b[0m\n",
      "\u001b[0;31mTypeError\u001b[0m: unhashable type: 'list'"
     ]
    }
   ],
   "source": [
    "# Use token_count to get the top 10 words for Bitcoin\n",
    "token_count(bitcoin_tokenized)"
   ]
  },
  {
   "cell_type": "code",
   "execution_count": 48,
   "metadata": {},
   "outputs": [
    {
     "ename": "TypeError",
     "evalue": "unhashable type: 'list'",
     "output_type": "error",
     "traceback": [
      "\u001b[0;31m---------------------------------------------------------------------------\u001b[0m",
      "\u001b[0;31mTypeError\u001b[0m                                 Traceback (most recent call last)",
      "\u001b[0;32m<ipython-input-48-78bb20972255>\u001b[0m in \u001b[0;36m<module>\u001b[0;34m\u001b[0m\n\u001b[1;32m      1\u001b[0m \u001b[0;31m# Use token_count to get the top 10 words for Ethereum\u001b[0m\u001b[0;34m\u001b[0m\u001b[0;34m\u001b[0m\u001b[0;34m\u001b[0m\u001b[0m\n\u001b[0;32m----> 2\u001b[0;31m \u001b[0mtoken_count\u001b[0m\u001b[0;34m(\u001b[0m\u001b[0methereum_tokenized\u001b[0m\u001b[0;34m)\u001b[0m\u001b[0;34m\u001b[0m\u001b[0;34m\u001b[0m\u001b[0m\n\u001b[0m",
      "\u001b[0;32m<ipython-input-46-4ffb24a26f6f>\u001b[0m in \u001b[0;36mtoken_count\u001b[0;34m(tokens, N)\u001b[0m\n\u001b[1;32m      2\u001b[0m \u001b[0;32mdef\u001b[0m \u001b[0mtoken_count\u001b[0m\u001b[0;34m(\u001b[0m\u001b[0mtokens\u001b[0m\u001b[0;34m,\u001b[0m \u001b[0mN\u001b[0m\u001b[0;34m=\u001b[0m\u001b[0;36m3\u001b[0m\u001b[0;34m)\u001b[0m\u001b[0;34m:\u001b[0m\u001b[0;34m\u001b[0m\u001b[0;34m\u001b[0m\u001b[0m\n\u001b[1;32m      3\u001b[0m     \u001b[0;34m\"\"\"Returns the top N tokens from the frequency count\"\"\"\u001b[0m\u001b[0;34m\u001b[0m\u001b[0;34m\u001b[0m\u001b[0m\n\u001b[0;32m----> 4\u001b[0;31m     \u001b[0;32mreturn\u001b[0m \u001b[0mCounter\u001b[0m\u001b[0;34m(\u001b[0m\u001b[0mtokens\u001b[0m\u001b[0;34m)\u001b[0m\u001b[0;34m.\u001b[0m\u001b[0mmost_common\u001b[0m\u001b[0;34m(\u001b[0m\u001b[0mN\u001b[0m\u001b[0;34m)\u001b[0m\u001b[0;34m\u001b[0m\u001b[0;34m\u001b[0m\u001b[0m\n\u001b[0m",
      "\u001b[0;32m~/opt/anaconda3/lib/python3.8/collections/__init__.py\u001b[0m in \u001b[0;36m__init__\u001b[0;34m(self, iterable, **kwds)\u001b[0m\n\u001b[1;32m    550\u001b[0m         '''\n\u001b[1;32m    551\u001b[0m         \u001b[0msuper\u001b[0m\u001b[0;34m(\u001b[0m\u001b[0mCounter\u001b[0m\u001b[0;34m,\u001b[0m \u001b[0mself\u001b[0m\u001b[0;34m)\u001b[0m\u001b[0;34m.\u001b[0m\u001b[0m__init__\u001b[0m\u001b[0;34m(\u001b[0m\u001b[0;34m)\u001b[0m\u001b[0;34m\u001b[0m\u001b[0;34m\u001b[0m\u001b[0m\n\u001b[0;32m--> 552\u001b[0;31m         \u001b[0mself\u001b[0m\u001b[0;34m.\u001b[0m\u001b[0mupdate\u001b[0m\u001b[0;34m(\u001b[0m\u001b[0miterable\u001b[0m\u001b[0;34m,\u001b[0m \u001b[0;34m**\u001b[0m\u001b[0mkwds\u001b[0m\u001b[0;34m)\u001b[0m\u001b[0;34m\u001b[0m\u001b[0;34m\u001b[0m\u001b[0m\n\u001b[0m\u001b[1;32m    553\u001b[0m \u001b[0;34m\u001b[0m\u001b[0m\n\u001b[1;32m    554\u001b[0m     \u001b[0;32mdef\u001b[0m \u001b[0m__missing__\u001b[0m\u001b[0;34m(\u001b[0m\u001b[0mself\u001b[0m\u001b[0;34m,\u001b[0m \u001b[0mkey\u001b[0m\u001b[0;34m)\u001b[0m\u001b[0;34m:\u001b[0m\u001b[0;34m\u001b[0m\u001b[0;34m\u001b[0m\u001b[0m\n",
      "\u001b[0;32m~/opt/anaconda3/lib/python3.8/collections/__init__.py\u001b[0m in \u001b[0;36mupdate\u001b[0;34m(self, iterable, **kwds)\u001b[0m\n\u001b[1;32m    635\u001b[0m                     \u001b[0msuper\u001b[0m\u001b[0;34m(\u001b[0m\u001b[0mCounter\u001b[0m\u001b[0;34m,\u001b[0m \u001b[0mself\u001b[0m\u001b[0;34m)\u001b[0m\u001b[0;34m.\u001b[0m\u001b[0mupdate\u001b[0m\u001b[0;34m(\u001b[0m\u001b[0miterable\u001b[0m\u001b[0;34m)\u001b[0m \u001b[0;31m# fast path when counter is empty\u001b[0m\u001b[0;34m\u001b[0m\u001b[0;34m\u001b[0m\u001b[0m\n\u001b[1;32m    636\u001b[0m             \u001b[0;32melse\u001b[0m\u001b[0;34m:\u001b[0m\u001b[0;34m\u001b[0m\u001b[0;34m\u001b[0m\u001b[0m\n\u001b[0;32m--> 637\u001b[0;31m                 \u001b[0m_count_elements\u001b[0m\u001b[0;34m(\u001b[0m\u001b[0mself\u001b[0m\u001b[0;34m,\u001b[0m \u001b[0miterable\u001b[0m\u001b[0;34m)\u001b[0m\u001b[0;34m\u001b[0m\u001b[0;34m\u001b[0m\u001b[0m\n\u001b[0m\u001b[1;32m    638\u001b[0m         \u001b[0;32mif\u001b[0m \u001b[0mkwds\u001b[0m\u001b[0;34m:\u001b[0m\u001b[0;34m\u001b[0m\u001b[0;34m\u001b[0m\u001b[0m\n\u001b[1;32m    639\u001b[0m             \u001b[0mself\u001b[0m\u001b[0;34m.\u001b[0m\u001b[0mupdate\u001b[0m\u001b[0;34m(\u001b[0m\u001b[0mkwds\u001b[0m\u001b[0;34m)\u001b[0m\u001b[0;34m\u001b[0m\u001b[0;34m\u001b[0m\u001b[0m\n",
      "\u001b[0;31mTypeError\u001b[0m: unhashable type: 'list'"
     ]
    }
   ],
   "source": [
    "# Use token_count to get the top 10 words for Ethereum\n",
    "token_count(ethereum_tokenized)"
   ]
  },
  {
   "cell_type": "markdown",
   "metadata": {},
   "source": [
    "---"
   ]
  },
  {
   "cell_type": "markdown",
   "metadata": {},
   "source": [
    "### Word Clouds\n",
    "\n",
    "In this section, you will generate word clouds for each coin to summarize the news for each coin"
   ]
  },
  {
   "cell_type": "code",
   "execution_count": null,
   "metadata": {},
   "outputs": [],
   "source": [
    "from wordcloud import WordCloud\n",
    "import matplotlib.pyplot as plt\n",
    "plt.style.use('seaborn-whitegrid')\n",
    "import matplotlib as mpl\n",
    "mpl.rcParams['figure.figsize'] = [20.0, 10.0]"
   ]
  },
  {
   "cell_type": "code",
   "execution_count": null,
   "metadata": {},
   "outputs": [],
   "source": [
    "# Generate the Bitcoin word cloud\n",
    "# YOUR CODE HERE!"
   ]
  },
  {
   "cell_type": "code",
   "execution_count": null,
   "metadata": {},
   "outputs": [],
   "source": [
    "# Generate the Ethereum word cloud\n",
    "# YOUR CODE HERE!"
   ]
  },
  {
   "cell_type": "markdown",
   "metadata": {},
   "source": [
    "---\n",
    "## 3. Named Entity Recognition\n",
    "\n",
    "In this section, you will build a named entity recognition model for both Bitcoin and Ethereum, then visualize the tags using SpaCy."
   ]
  },
  {
   "cell_type": "code",
   "execution_count": null,
   "metadata": {},
   "outputs": [],
   "source": [
    "import spacy\n",
    "from spacy import displacy"
   ]
  },
  {
   "cell_type": "code",
   "execution_count": null,
   "metadata": {},
   "outputs": [],
   "source": [
    "# Download the language model for SpaCy\n",
    "# !python -m spacy download en_core_web_sm"
   ]
  },
  {
   "cell_type": "code",
   "execution_count": null,
   "metadata": {},
   "outputs": [],
   "source": [
    "# Load the spaCy model\n",
    "nlp = spacy.load('en_core_web_sm')"
   ]
  },
  {
   "cell_type": "markdown",
   "metadata": {},
   "source": [
    "---\n",
    "### Bitcoin NER"
   ]
  },
  {
   "cell_type": "code",
   "execution_count": null,
   "metadata": {},
   "outputs": [],
   "source": [
    "# Concatenate all of the Bitcoin text together\n",
    "# YOUR CODE HERE!"
   ]
  },
  {
   "cell_type": "code",
   "execution_count": null,
   "metadata": {},
   "outputs": [],
   "source": [
    "# Run the NER processor on all of the text\n",
    "# YOUR CODE HERE!\n",
    "\n",
    "# Add a title to the document\n",
    "# YOUR CODE HERE!"
   ]
  },
  {
   "cell_type": "code",
   "execution_count": null,
   "metadata": {},
   "outputs": [],
   "source": [
    "# Render the visualization\n",
    "# YOUR CODE HERE!"
   ]
  },
  {
   "cell_type": "code",
   "execution_count": null,
   "metadata": {},
   "outputs": [],
   "source": [
    "# List all Entities\n",
    "# YOUR CODE HERE!"
   ]
  },
  {
   "cell_type": "markdown",
   "metadata": {},
   "source": [
    "---"
   ]
  },
  {
   "cell_type": "markdown",
   "metadata": {},
   "source": [
    "### Ethereum NER"
   ]
  },
  {
   "cell_type": "code",
   "execution_count": null,
   "metadata": {},
   "outputs": [],
   "source": [
    "# Concatenate all of the Ethereum text together\n",
    "# YOUR CODE HERE!"
   ]
  },
  {
   "cell_type": "code",
   "execution_count": null,
   "metadata": {},
   "outputs": [],
   "source": [
    "# Run the NER processor on all of the text\n",
    "# YOUR CODE HERE!\n",
    "\n",
    "# Add a title to the document\n",
    "# YOUR CODE HERE!"
   ]
  },
  {
   "cell_type": "code",
   "execution_count": null,
   "metadata": {},
   "outputs": [],
   "source": [
    "# Render the visualization\n",
    "# YOUR CODE HERE!"
   ]
  },
  {
   "cell_type": "code",
   "execution_count": null,
   "metadata": {},
   "outputs": [],
   "source": [
    "# List all Entities\n",
    "# YOUR CODE HERE!"
   ]
  },
  {
   "cell_type": "markdown",
   "metadata": {},
   "source": [
    "---"
   ]
  }
 ],
 "metadata": {
  "file_extension": ".py",
  "kernelspec": {
   "display_name": "Python 3",
   "language": "python",
   "name": "python3"
  },
  "language_info": {
   "codemirror_mode": {
    "name": "ipython",
    "version": 3
   },
   "file_extension": ".py",
   "mimetype": "text/x-python",
   "name": "python",
   "nbconvert_exporter": "python",
   "pygments_lexer": "ipython3",
   "version": "3.8.5"
  },
  "mimetype": "text/x-python",
  "name": "python",
  "npconvert_exporter": "python",
  "pygments_lexer": "ipython3",
  "version": 3
 },
 "nbformat": 4,
 "nbformat_minor": 4
}
